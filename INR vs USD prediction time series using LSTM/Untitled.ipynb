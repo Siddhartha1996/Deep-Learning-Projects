{
 "cells": [
  {
   "cell_type": "code",
   "execution_count": 1,
   "metadata": {},
   "outputs": [],
   "source": [
    "\n",
    "import numpy as np\n",
    "import pandas as pd\n",
    "import seaborn as sns\n",
    "import matplotlib.pyplot as plt"
   ]
  },
  {
   "cell_type": "markdown",
   "metadata": {},
   "source": [
    "The format is known as currency units per U.S. Dollar. Explained by example, each rate in the Euro column says how much U.S. Dollar you had to pay at a certain date to buy 1 Euro. Hence, the rates in the column U.S. Dollar are always"
   ]
  },
  {
   "cell_type": "code",
   "execution_count": 2,
   "metadata": {},
   "outputs": [],
   "source": [
    "df = pd.read_csv('exchangerate.csv')"
   ]
  },
  {
   "cell_type": "code",
   "execution_count": 3,
   "metadata": {},
   "outputs": [
    {
     "data": {
      "text/html": [
       "<div>\n",
       "<style scoped>\n",
       "    .dataframe tbody tr th:only-of-type {\n",
       "        vertical-align: middle;\n",
       "    }\n",
       "\n",
       "    .dataframe tbody tr th {\n",
       "        vertical-align: top;\n",
       "    }\n",
       "\n",
       "    .dataframe thead th {\n",
       "        text-align: right;\n",
       "    }\n",
       "</style>\n",
       "<table border=\"1\" class=\"dataframe\">\n",
       "  <thead>\n",
       "    <tr style=\"text-align: right;\">\n",
       "      <th></th>\n",
       "      <th>Date</th>\n",
       "      <th>Algerian Dinar</th>\n",
       "      <th>Australian Dollar</th>\n",
       "      <th>Bahrain Dinar</th>\n",
       "      <th>Bolivar Fuerte</th>\n",
       "      <th>Botswana Pula</th>\n",
       "      <th>Brazilian Real</th>\n",
       "      <th>Brunei Dollar</th>\n",
       "      <th>Canadian Dollar</th>\n",
       "      <th>Chilean Peso</th>\n",
       "      <th>...</th>\n",
       "      <th>South African Rand</th>\n",
       "      <th>Sri Lanka Rupee</th>\n",
       "      <th>Swedish Krona</th>\n",
       "      <th>Swiss Franc</th>\n",
       "      <th>Thai Baht</th>\n",
       "      <th>Trinidad And Tobago Dollar</th>\n",
       "      <th>Tunisian Dinar</th>\n",
       "      <th>U.A.E. Dirham</th>\n",
       "      <th>U.K. Pound Sterling</th>\n",
       "      <th>U.S. Dollar</th>\n",
       "    </tr>\n",
       "  </thead>\n",
       "  <tbody>\n",
       "    <tr>\n",
       "      <th>0</th>\n",
       "      <td>1995-1-2</td>\n",
       "      <td>NaN</td>\n",
       "      <td>NaN</td>\n",
       "      <td>NaN</td>\n",
       "      <td>NaN</td>\n",
       "      <td>NaN</td>\n",
       "      <td>NaN</td>\n",
       "      <td>NaN</td>\n",
       "      <td>NaN</td>\n",
       "      <td>NaN</td>\n",
       "      <td>...</td>\n",
       "      <td>NaN</td>\n",
       "      <td>NaN</td>\n",
       "      <td>NaN</td>\n",
       "      <td>NaN</td>\n",
       "      <td>NaN</td>\n",
       "      <td>NaN</td>\n",
       "      <td>NaN</td>\n",
       "      <td>NaN</td>\n",
       "      <td>NaN</td>\n",
       "      <td>1.0</td>\n",
       "    </tr>\n",
       "    <tr>\n",
       "      <th>1</th>\n",
       "      <td>1995-1-3</td>\n",
       "      <td>NaN</td>\n",
       "      <td>NaN</td>\n",
       "      <td>0.376</td>\n",
       "      <td>NaN</td>\n",
       "      <td>NaN</td>\n",
       "      <td>0.843</td>\n",
       "      <td>NaN</td>\n",
       "      <td>1.4035</td>\n",
       "      <td>NaN</td>\n",
       "      <td>...</td>\n",
       "      <td>3.55</td>\n",
       "      <td>50.04</td>\n",
       "      <td>7.4588</td>\n",
       "      <td>1.3168</td>\n",
       "      <td>25.10</td>\n",
       "      <td>5.8750</td>\n",
       "      <td>NaN</td>\n",
       "      <td>3.671</td>\n",
       "      <td>1.5617</td>\n",
       "      <td>1.0</td>\n",
       "    </tr>\n",
       "    <tr>\n",
       "      <th>2</th>\n",
       "      <td>1995-1-4</td>\n",
       "      <td>NaN</td>\n",
       "      <td>0.7704</td>\n",
       "      <td>0.376</td>\n",
       "      <td>NaN</td>\n",
       "      <td>NaN</td>\n",
       "      <td>0.844</td>\n",
       "      <td>NaN</td>\n",
       "      <td>1.4026</td>\n",
       "      <td>NaN</td>\n",
       "      <td>...</td>\n",
       "      <td>3.56</td>\n",
       "      <td>50.07</td>\n",
       "      <td>7.4480</td>\n",
       "      <td>1.3161</td>\n",
       "      <td>25.13</td>\n",
       "      <td>5.8738</td>\n",
       "      <td>NaN</td>\n",
       "      <td>3.671</td>\n",
       "      <td>1.5605</td>\n",
       "      <td>1.0</td>\n",
       "    </tr>\n",
       "    <tr>\n",
       "      <th>3</th>\n",
       "      <td>1995-1-5</td>\n",
       "      <td>NaN</td>\n",
       "      <td>0.7693</td>\n",
       "      <td>0.376</td>\n",
       "      <td>NaN</td>\n",
       "      <td>NaN</td>\n",
       "      <td>0.844</td>\n",
       "      <td>NaN</td>\n",
       "      <td>1.4002</td>\n",
       "      <td>NaN</td>\n",
       "      <td>...</td>\n",
       "      <td>3.55</td>\n",
       "      <td>50.07</td>\n",
       "      <td>7.4450</td>\n",
       "      <td>1.3080</td>\n",
       "      <td>25.14</td>\n",
       "      <td>5.8700</td>\n",
       "      <td>NaN</td>\n",
       "      <td>3.671</td>\n",
       "      <td>1.5610</td>\n",
       "      <td>1.0</td>\n",
       "    </tr>\n",
       "    <tr>\n",
       "      <th>4</th>\n",
       "      <td>1995-1-6</td>\n",
       "      <td>NaN</td>\n",
       "      <td>0.7699</td>\n",
       "      <td>0.376</td>\n",
       "      <td>NaN</td>\n",
       "      <td>NaN</td>\n",
       "      <td>0.842</td>\n",
       "      <td>NaN</td>\n",
       "      <td>1.4002</td>\n",
       "      <td>NaN</td>\n",
       "      <td>...</td>\n",
       "      <td>3.56</td>\n",
       "      <td>50.07</td>\n",
       "      <td>NaN</td>\n",
       "      <td>1.3040</td>\n",
       "      <td>25.13</td>\n",
       "      <td>5.8810</td>\n",
       "      <td>NaN</td>\n",
       "      <td>3.671</td>\n",
       "      <td>1.5645</td>\n",
       "      <td>1.0</td>\n",
       "    </tr>\n",
       "  </tbody>\n",
       "</table>\n",
       "<p>5 rows × 52 columns</p>\n",
       "</div>"
      ],
      "text/plain": [
       "       Date  Algerian Dinar  Australian Dollar  Bahrain Dinar  Bolivar Fuerte  \\\n",
       "0  1995-1-2             NaN                NaN            NaN             NaN   \n",
       "1  1995-1-3             NaN                NaN          0.376             NaN   \n",
       "2  1995-1-4             NaN             0.7704          0.376             NaN   \n",
       "3  1995-1-5             NaN             0.7693          0.376             NaN   \n",
       "4  1995-1-6             NaN             0.7699          0.376             NaN   \n",
       "\n",
       "   Botswana Pula  Brazilian Real  Brunei Dollar  Canadian Dollar  \\\n",
       "0            NaN             NaN            NaN              NaN   \n",
       "1            NaN           0.843            NaN           1.4035   \n",
       "2            NaN           0.844            NaN           1.4026   \n",
       "3            NaN           0.844            NaN           1.4002   \n",
       "4            NaN           0.842            NaN           1.4002   \n",
       "\n",
       "   Chilean Peso  ...  South African Rand  Sri Lanka Rupee  Swedish Krona  \\\n",
       "0           NaN  ...                 NaN              NaN            NaN   \n",
       "1           NaN  ...                3.55            50.04         7.4588   \n",
       "2           NaN  ...                3.56            50.07         7.4480   \n",
       "3           NaN  ...                3.55            50.07         7.4450   \n",
       "4           NaN  ...                3.56            50.07            NaN   \n",
       "\n",
       "   Swiss Franc  Thai Baht  Trinidad And Tobago Dollar  Tunisian Dinar  \\\n",
       "0          NaN        NaN                         NaN             NaN   \n",
       "1       1.3168      25.10                      5.8750             NaN   \n",
       "2       1.3161      25.13                      5.8738             NaN   \n",
       "3       1.3080      25.14                      5.8700             NaN   \n",
       "4       1.3040      25.13                      5.8810             NaN   \n",
       "\n",
       "   U.A.E. Dirham  U.K. Pound Sterling  U.S. Dollar  \n",
       "0            NaN                  NaN          1.0  \n",
       "1          3.671               1.5617          1.0  \n",
       "2          3.671               1.5605          1.0  \n",
       "3          3.671               1.5610          1.0  \n",
       "4          3.671               1.5645          1.0  \n",
       "\n",
       "[5 rows x 52 columns]"
      ]
     },
     "execution_count": 3,
     "metadata": {},
     "output_type": "execute_result"
    }
   ],
   "source": [
    "df.head()"
   ]
  },
  {
   "cell_type": "code",
   "execution_count": 4,
   "metadata": {},
   "outputs": [
    {
     "data": {
      "text/plain": [
       "(5978, 52)"
      ]
     },
     "execution_count": 4,
     "metadata": {},
     "output_type": "execute_result"
    }
   ],
   "source": [
    "df.shape"
   ]
  },
  {
   "cell_type": "code",
   "execution_count": 5,
   "metadata": {},
   "outputs": [
    {
     "name": "stdout",
     "output_type": "stream",
     "text": [
      "<class 'pandas.core.frame.DataFrame'>\n",
      "RangeIndex: 5978 entries, 0 to 5977\n",
      "Data columns (total 52 columns):\n",
      " #   Column                      Non-Null Count  Dtype  \n",
      "---  ------                      --------------  -----  \n",
      " 0   Date                        5978 non-null   object \n",
      " 1   Algerian Dinar              1866 non-null   float64\n",
      " 2   Australian Dollar           5715 non-null   float64\n",
      " 3   Bahrain Dinar               5909 non-null   float64\n",
      " 4   Bolivar Fuerte              2314 non-null   float64\n",
      " 5   Botswana Pula               4703 non-null   float64\n",
      " 6   Brazilian Real              5439 non-null   float64\n",
      " 7   Brunei Dollar               4732 non-null   float64\n",
      " 8   Canadian Dollar             5622 non-null   float64\n",
      " 9   Chilean Peso                4758 non-null   float64\n",
      " 10  Chinese Yuan                4662 non-null   float64\n",
      " 11  Colombian Peso              5396 non-null   float64\n",
      " 12  Czech Koruna                4128 non-null   float64\n",
      " 13  Danish Krone                5727 non-null   float64\n",
      " 14  Euro                        4908 non-null   float64\n",
      " 15  Hungarian Forint            4563 non-null   float64\n",
      " 16  Icelandic Krona             5624 non-null   float64\n",
      " 17  Indian Rupee                5549 non-null   float64\n",
      " 18  Indonesian Rupiah           4486 non-null   float64\n",
      " 19  Iranian Rial                4666 non-null   float64\n",
      " 20  Israeli New Sheqel          4039 non-null   float64\n",
      " 21  Japanese Yen                5662 non-null   float64\n",
      " 22  Kazakhstani Tenge           2927 non-null   float64\n",
      " 23  Korean Won                  5377 non-null   float64\n",
      " 24  Kuwaiti Dinar               4924 non-null   float64\n",
      " 25  Libyan Dinar                5855 non-null   float64\n",
      " 26  Malaysian Ringgit           5677 non-null   float64\n",
      " 27  Mauritian Rupee             3518 non-null   float64\n",
      " 28  Mexican Peso                3712 non-null   float64\n",
      " 29  Nepalese Rupee              5499 non-null   float64\n",
      " 30  New Zealand Dollar          5668 non-null   float64\n",
      " 31  Norwegian Krone             5687 non-null   float64\n",
      " 32  Nuevo Sol                   1681 non-null   float64\n",
      " 33  Pakistani Rupee             5490 non-null   float64\n",
      " 34  Peso Uruguayo               1691 non-null   float64\n",
      " 35  Philippine Peso             1780 non-null   float64\n",
      " 36  Polish Zloty                4213 non-null   float64\n",
      " 37  Qatar Riyal                 5931 non-null   float64\n",
      " 38  Rial Omani                  5922 non-null   float64\n",
      " 39  Russian Ruble               3543 non-null   float64\n",
      " 40  Saudi Arabian Riyal         5932 non-null   float64\n",
      " 41  Singapore Dollar            5719 non-null   float64\n",
      " 42  South African Rand          5443 non-null   float64\n",
      " 43  Sri Lanka Rupee             5469 non-null   float64\n",
      " 44  Swedish Krona               5629 non-null   float64\n",
      " 45  Swiss Franc                 5739 non-null   float64\n",
      " 46  Thai Baht                   5413 non-null   float64\n",
      " 47  Trinidad And Tobago Dollar  5321 non-null   float64\n",
      " 48  Tunisian Dinar              1720 non-null   float64\n",
      " 49  U.A.E. Dirham               5907 non-null   float64\n",
      " 50  U.K. Pound Sterling         5856 non-null   float64\n",
      " 51  U.S. Dollar                 5978 non-null   float64\n",
      "dtypes: float64(51), object(1)\n",
      "memory usage: 2.4+ MB\n"
     ]
    }
   ],
   "source": [
    "df.info()"
   ]
  },
  {
   "cell_type": "code",
   "execution_count": 6,
   "metadata": {},
   "outputs": [
    {
     "data": {
      "text/plain": [
       "Date                             0\n",
       "Algerian Dinar                4112\n",
       "Australian Dollar              263\n",
       "Bahrain Dinar                   69\n",
       "Bolivar Fuerte                3664\n",
       "Botswana Pula                 1275\n",
       "Brazilian Real                 539\n",
       "Brunei Dollar                 1246\n",
       "Canadian Dollar                356\n",
       "Chilean Peso                  1220\n",
       "Chinese Yuan                  1316\n",
       "Colombian Peso                 582\n",
       "Czech Koruna                  1850\n",
       "Danish Krone                   251\n",
       "Euro                          1070\n",
       "Hungarian Forint              1415\n",
       "Icelandic Krona                354\n",
       "Indian Rupee                   429\n",
       "Indonesian Rupiah             1492\n",
       "Iranian Rial                  1312\n",
       "Israeli New Sheqel            1939\n",
       "Japanese Yen                   316\n",
       "Kazakhstani Tenge             3051\n",
       "Korean Won                     601\n",
       "Kuwaiti Dinar                 1054\n",
       "Libyan Dinar                   123\n",
       "Malaysian Ringgit              301\n",
       "Mauritian Rupee               2460\n",
       "Mexican Peso                  2266\n",
       "Nepalese Rupee                 479\n",
       "New Zealand Dollar             310\n",
       "Norwegian Krone                291\n",
       "Nuevo Sol                     4297\n",
       "Pakistani Rupee                488\n",
       "Peso Uruguayo                 4287\n",
       "Philippine Peso               4198\n",
       "Polish Zloty                  1765\n",
       "Qatar Riyal                     47\n",
       "Rial Omani                      56\n",
       "Russian Ruble                 2435\n",
       "Saudi Arabian Riyal             46\n",
       "Singapore Dollar               259\n",
       "South African Rand             535\n",
       "Sri Lanka Rupee                509\n",
       "Swedish Krona                  349\n",
       "Swiss Franc                    239\n",
       "Thai Baht                      565\n",
       "Trinidad And Tobago Dollar     657\n",
       "Tunisian Dinar                4258\n",
       "U.A.E. Dirham                   71\n",
       "U.K. Pound Sterling            122\n",
       "U.S. Dollar                      0\n",
       "dtype: int64"
      ]
     },
     "execution_count": 6,
     "metadata": {},
     "output_type": "execute_result"
    }
   ],
   "source": [
    "df.isnull().sum()"
   ]
  },
  {
   "cell_type": "code",
   "execution_count": 7,
   "metadata": {},
   "outputs": [
    {
     "data": {
      "text/plain": [
       "0           NaN\n",
       "1       31.3700\n",
       "2       31.3700\n",
       "3       31.3700\n",
       "4       31.3700\n",
       "         ...   \n",
       "5973    66.8299\n",
       "5974    66.7801\n",
       "5975    66.7801\n",
       "5976        NaN\n",
       "5977        NaN\n",
       "Name: Indian Rupee, Length: 5978, dtype: float64"
      ]
     },
     "execution_count": 7,
     "metadata": {},
     "output_type": "execute_result"
    }
   ],
   "source": [
    "df[\"Indian Rupee\"]"
   ]
  },
  {
   "cell_type": "code",
   "execution_count": null,
   "metadata": {},
   "outputs": [],
   "source": []
  },
  {
   "cell_type": "code",
   "execution_count": 8,
   "metadata": {},
   "outputs": [],
   "source": [
    "df.interpolate(inplace = True)"
   ]
  },
  {
   "cell_type": "code",
   "execution_count": 9,
   "metadata": {},
   "outputs": [
    {
     "data": {
      "text/plain": [
       "1"
      ]
     },
     "execution_count": 9,
     "metadata": {},
     "output_type": "execute_result"
    }
   ],
   "source": [
    "df[\"Indian Rupee\"].isnull().sum()"
   ]
  },
  {
   "cell_type": "code",
   "execution_count": null,
   "metadata": {},
   "outputs": [],
   "source": []
  },
  {
   "cell_type": "code",
   "execution_count": 10,
   "metadata": {},
   "outputs": [
    {
     "data": {
      "text/plain": [
       "[<matplotlib.lines.Line2D at 0x17233981708>]"
      ]
     },
     "execution_count": 10,
     "metadata": {},
     "output_type": "execute_result"
    },
    {
     "data": {
      "image/png": "[encoded data removed]",
      "text/plain": [
       "<Figure size 1080x1080 with 1 Axes>"
      ]
     },
     "metadata": {
      "needs_background": "light"
     },
     "output_type": "display_data"
    }
   ],
   "source": [
    "plt.figure(figsize = (15,15))\n",
    "plt.plot(df['Indian Rupee'])"
   ]
  },
  {
   "cell_type": "code",
   "execution_count": 11,
   "metadata": {},
   "outputs": [
    {
     "name": "stderr",
     "output_type": "stream",
     "text": [
      "C:\\Users\\siddh\\Anaconda3\\lib\\site-packages\\ipykernel_launcher.py:2: SettingWithCopyWarning: \n",
      "A value is trying to be set on a copy of a slice from a DataFrame\n",
      "\n",
      "See the caveats in the documentation: https://pandas.pydata.org/pandas-docs/stable/user_guide/indexing.html#returning-a-view-versus-a-copy\n",
      "  \n"
     ]
    }
   ],
   "source": [
    "inr = df[\"Indian Rupee\"]\n",
    "inr[0] = 31.3700"
   ]
  },
  {
   "cell_type": "code",
   "execution_count": 12,
   "metadata": {},
   "outputs": [
    {
     "data": {
      "text/plain": [
       "array([[31.37  ],\n",
       "       [31.37  ],\n",
       "       [31.37  ],\n",
       "       ...,\n",
       "       [66.7801],\n",
       "       [66.7801],\n",
       "       [66.7801]])"
      ]
     },
     "execution_count": 12,
     "metadata": {},
     "output_type": "execute_result"
    }
   ],
   "source": [
    "inr = np.array(inr).reshape(-1,1)\n",
    "inr"
   ]
  },
  {
   "cell_type": "code",
   "execution_count": null,
   "metadata": {},
   "outputs": [],
   "source": []
  },
  {
   "cell_type": "code",
   "execution_count": null,
   "metadata": {},
   "outputs": [],
   "source": []
  },
  {
   "cell_type": "code",
   "execution_count": null,
   "metadata": {},
   "outputs": [],
   "source": []
  },
  {
   "cell_type": "code",
   "execution_count": null,
   "metadata": {},
   "outputs": [],
   "source": []
  },
  {
   "cell_type": "code",
   "execution_count": 15,
   "metadata": {},
   "outputs": [],
   "source": [
    "inr_train = inr[:4500]\n",
    "inr_test = inr[4500:]"
   ]
  },
  {
   "cell_type": "code",
   "execution_count": 16,
   "metadata": {},
   "outputs": [
    {
     "data": {
      "text/plain": [
       "((4500, 1), (1478, 1))"
      ]
     },
     "execution_count": 16,
     "metadata": {},
     "output_type": "execute_result"
    }
   ],
   "source": [
    "inr_train.shape, inr_test.shape"
   ]
  },
  {
   "cell_type": "code",
   "execution_count": 17,
   "metadata": {},
   "outputs": [
    {
     "name": "stderr",
     "output_type": "stream",
     "text": [
      "Using TensorFlow backend.\n",
      "C:\\Users\\siddh\\Anaconda3\\lib\\site-packages\\tensorflow\\python\\framework\\dtypes.py:526: FutureWarning: Passing (type, 1) or '1type' as a synonym of type is deprecated; in a future version of numpy, it will be understood as (type, (1,)) / '(1,)type'.\n",
      "  _np_qint8 = np.dtype([(\"qint8\", np.int8, 1)])\n",
      "C:\\Users\\siddh\\Anaconda3\\lib\\site-packages\\tensorflow\\python\\framework\\dtypes.py:527: FutureWarning: Passing (type, 1) or '1type' as a synonym of type is deprecated; in a future version of numpy, it will be understood as (type, (1,)) / '(1,)type'.\n",
      "  _np_quint8 = np.dtype([(\"quint8\", np.uint8, 1)])\n",
      "C:\\Users\\siddh\\Anaconda3\\lib\\site-packages\\tensorflow\\python\\framework\\dtypes.py:528: FutureWarning: Passing (type, 1) or '1type' as a synonym of type is deprecated; in a future version of numpy, it will be understood as (type, (1,)) / '(1,)type'.\n",
      "  _np_qint16 = np.dtype([(\"qint16\", np.int16, 1)])\n",
      "C:\\Users\\siddh\\Anaconda3\\lib\\site-packages\\tensorflow\\python\\framework\\dtypes.py:529: FutureWarning: Passing (type, 1) or '1type' as a synonym of type is deprecated; in a future version of numpy, it will be understood as (type, (1,)) / '(1,)type'.\n",
      "  _np_quint16 = np.dtype([(\"quint16\", np.uint16, 1)])\n",
      "C:\\Users\\siddh\\Anaconda3\\lib\\site-packages\\tensorflow\\python\\framework\\dtypes.py:530: FutureWarning: Passing (type, 1) or '1type' as a synonym of type is deprecated; in a future version of numpy, it will be understood as (type, (1,)) / '(1,)type'.\n",
      "  _np_qint32 = np.dtype([(\"qint32\", np.int32, 1)])\n",
      "C:\\Users\\siddh\\Anaconda3\\lib\\site-packages\\tensorflow\\python\\framework\\dtypes.py:535: FutureWarning: Passing (type, 1) or '1type' as a synonym of type is deprecated; in a future version of numpy, it will be understood as (type, (1,)) / '(1,)type'.\n",
      "  np_resource = np.dtype([(\"resource\", np.ubyte, 1)])\n"
     ]
    }
   ],
   "source": [
    "from keras.models import Sequential\n",
    "from keras.layers import Dense, Activation,Dropout\n",
    "from keras.layers.recurrent import LSTM"
   ]
  },
  {
   "cell_type": "code",
   "execution_count": null,
   "metadata": {},
   "outputs": [],
   "source": []
  },
  {
   "cell_type": "code",
   "execution_count": 18,
   "metadata": {},
   "outputs": [],
   "source": [
    "def create_dataset( dataset, look_back ):\n",
    "    dataX, dataY =[],[]\n",
    "    for i in range( len(dataset) - look_back - 1 ):\n",
    "        a = dataset[ i:( i+look_back ), 0 ]\n",
    "        dataX.append(a)\n",
    "        dataY.append(dataset[i+look_back,0])\n",
    "    return np.array(dataX), np.array(dataY)"
   ]
  },
  {
   "cell_type": "code",
   "execution_count": 19,
   "metadata": {},
   "outputs": [],
   "source": [
    "look_back=10\n",
    "xtrain,ytrain=create_dataset(inr_train, look_back)\n",
    "xtest,ytest=create_dataset(inr_test, look_back)\n",
    "xtrain=np.reshape(xtrain, (xtrain.shape[0],xtrain.shape[1],1))\n",
    "xtest=np.reshape(xtest, (xtest.shape[0],xtest.shape[1],1))"
   ]
  },
  {
   "cell_type": "code",
   "execution_count": 20,
   "metadata": {},
   "outputs": [
    {
     "name": "stdout",
     "output_type": "stream",
     "text": [
      "WARNING:tensorflow:From C:\\Users\\siddh\\Anaconda3\\lib\\site-packages\\tensorflow\\python\\ops\\resource_variable_ops.py:435: colocate_with (from tensorflow.python.framework.ops) is deprecated and will be removed in a future version.\n",
      "Instructions for updating:\n",
      "Colocations handled automatically by placer.\n"
     ]
    }
   ],
   "source": [
    "model = Sequential()\n",
    "model.add(LSTM(10, activation='relu', input_shape=(xtrain.shape[1],1)))\n",
    "model.add(Dense(1))\n",
    "model.compile(optimizer='adam', loss='mse')"
   ]
  },
  {
   "cell_type": "code",
   "execution_count": 21,
   "metadata": {},
   "outputs": [
    {
     "name": "stdout",
     "output_type": "stream",
     "text": [
      "WARNING:tensorflow:From C:\\Users\\siddh\\Anaconda3\\lib\\site-packages\\tensorflow\\python\\ops\\math_ops.py:3066: to_int32 (from tensorflow.python.ops.math_ops) is deprecated and will be removed in a future version.\n",
      "Instructions for updating:\n",
      "Use tf.cast instead.\n",
      "Epoch 1/50\n",
      "4489/4489 [==============================] - 33s 7ms/step - loss: 12.9663\n",
      "Epoch 2/50\n",
      "4489/4489 [==============================] - 31s 7ms/step - loss: 0.1083\n",
      "Epoch 3/50\n",
      "4489/4489 [==============================] - 32s 7ms/step - loss: 0.0940\n",
      "Epoch 4/50\n",
      "4489/4489 [==============================] - 32s 7ms/step - loss: 0.0804\n",
      "Epoch 5/50\n",
      "4489/4489 [==============================] - 32s 7ms/step - loss: 0.0728\n",
      "Epoch 6/50\n",
      "4489/4489 [==============================] - 32s 7ms/step - loss: 0.0695\n",
      "Epoch 7/50\n",
      "4489/4489 [==============================] - 32s 7ms/step - loss: 0.0718\n",
      "Epoch 8/50\n",
      "4489/4489 [==============================] - 32s 7ms/step - loss: 0.0729\n",
      "Epoch 9/50\n",
      "4489/4489 [==============================] - 31s 7ms/step - loss: 0.0682\n",
      "Epoch 10/50\n",
      "4489/4489 [==============================] - 32s 7ms/step - loss: 0.0651\n",
      "Epoch 11/50\n",
      "4489/4489 [==============================] - 32s 7ms/step - loss: 0.0659\n",
      "Epoch 12/50\n",
      "4489/4489 [==============================] - 32s 7ms/step - loss: 0.0623\n",
      "Epoch 13/50\n",
      "4489/4489 [==============================] - 31s 7ms/step - loss: 0.0607\n",
      "Epoch 14/50\n",
      "4489/4489 [==============================] - 31s 7ms/step - loss: 0.0643\n",
      "Epoch 15/50\n",
      "4489/4489 [==============================] - 30s 7ms/step - loss: 0.0651\n",
      "Epoch 16/50\n",
      "4489/4489 [==============================] - 32s 7ms/step - loss: 0.0603\n",
      "Epoch 17/50\n",
      "4489/4489 [==============================] - 32s 7ms/step - loss: 0.0617\n",
      "Epoch 18/50\n",
      "4489/4489 [==============================] - 31s 7ms/step - loss: 0.0585\n",
      "Epoch 19/50\n",
      "4489/4489 [==============================] - 31s 7ms/step - loss: 0.0578\n",
      "Epoch 20/50\n",
      "4489/4489 [==============================] - 32s 7ms/step - loss: 0.0602\n",
      "Epoch 21/50\n",
      "4489/4489 [==============================] - 31s 7ms/step - loss: 0.0595\n",
      "Epoch 22/50\n",
      "4489/4489 [==============================] - 32s 7ms/step - loss: 0.0556\n",
      "Epoch 23/50\n",
      "4489/4489 [==============================] - 31s 7ms/step - loss: 0.0570\n",
      "Epoch 24/50\n",
      "4489/4489 [==============================] - 31s 7ms/step - loss: 0.0561\n",
      "Epoch 25/50\n",
      "4489/4489 [==============================] - 31s 7ms/step - loss: 0.0545\n",
      "Epoch 26/50\n",
      "4489/4489 [==============================] - 32s 7ms/step - loss: 0.0538\n",
      "Epoch 27/50\n",
      "4489/4489 [==============================] - 32s 7ms/step - loss: 0.0561\n",
      "Epoch 28/50\n",
      "4489/4489 [==============================] - 32s 7ms/step - loss: 0.0565\n",
      "Epoch 29/50\n",
      "4489/4489 [==============================] - 32s 7ms/step - loss: 0.0559\n",
      "Epoch 30/50\n",
      "4489/4489 [==============================] - 32s 7ms/step - loss: 0.0528\n",
      "Epoch 31/50\n",
      "4489/4489 [==============================] - 32s 7ms/step - loss: 0.0517\n",
      "Epoch 32/50\n",
      "4489/4489 [==============================] - 32s 7ms/step - loss: 0.0528\n",
      "Epoch 33/50\n",
      "4489/4489 [==============================] - 32s 7ms/step - loss: 0.0513\n",
      "Epoch 34/50\n",
      "4489/4489 [==============================] - 32s 7ms/step - loss: 0.0505\n",
      "Epoch 35/50\n",
      "4489/4489 [==============================] - 32s 7ms/step - loss: 0.0533\n",
      "Epoch 36/50\n",
      "4489/4489 [==============================] - 31s 7ms/step - loss: 0.0535\n",
      "Epoch 37/50\n",
      "4489/4489 [==============================] - 32s 7ms/step - loss: 0.0513\n",
      "Epoch 38/50\n",
      "4489/4489 [==============================] - 32s 7ms/step - loss: 0.0511\n",
      "Epoch 39/50\n",
      "4489/4489 [==============================] - 32s 7ms/step - loss: 0.0517\n",
      "Epoch 40/50\n",
      "4489/4489 [==============================] - 32s 7ms/step - loss: 0.0493\n",
      "Epoch 41/50\n",
      "4489/4489 [==============================] - 32s 7ms/step - loss: 0.0492\n",
      "Epoch 42/50\n",
      "4489/4489 [==============================] - 32s 7ms/step - loss: 0.0496\n",
      "Epoch 43/50\n",
      "4489/4489 [==============================] - 32s 7ms/step - loss: 0.0456\n",
      "Epoch 44/50\n",
      "4489/4489 [==============================] - 32s 7ms/step - loss: 0.0475\n",
      "Epoch 45/50\n",
      "4489/4489 [==============================] - 31s 7ms/step - loss: 0.0499\n",
      "Epoch 46/50\n",
      "4489/4489 [==============================] - 31s 7ms/step - loss: 0.0493\n",
      "Epoch 47/50\n",
      "4489/4489 [==============================] - 30s 7ms/step - loss: 0.0497\n",
      "Epoch 48/50\n",
      "4489/4489 [==============================] - 31s 7ms/step - loss: 0.0501\n",
      "Epoch 49/50\n",
      "4489/4489 [==============================] - 29s 7ms/step - loss: 0.0480\n",
      "Epoch 50/50\n",
      "4489/4489 [==============================] - 29s 6ms/step - loss: 0.0465\n"
     ]
    },
    {
     "data": {
      "text/plain": [
       "<keras.callbacks.callbacks.History at 0x172382ca2c8>"
      ]
     },
     "execution_count": 21,
     "metadata": {},
     "output_type": "execute_result"
    }
   ],
   "source": [
    "from sklearn.metrics import mean_squared_error\n",
    "model.compile(optimizer = 'adam', loss ='mse')\n",
    "model.fit(xtrain,ytrain, epochs= 50, batch_size=1,verbose=1)"
   ]
  },
  {
   "cell_type": "code",
   "execution_count": 23,
   "metadata": {},
   "outputs": [
    {
     "data": {
      "text/plain": [
       "array([[56.10292 ],\n",
       "       [56.066338],\n",
       "       [55.95193 ],\n",
       "       [56.277737],\n",
       "       [56.158195],\n",
       "       [56.64316 ],\n",
       "       [57.08913 ],\n",
       "       [56.798367],\n",
       "       [57.280178],\n",
       "       [57.38679 ],\n",
       "       [57.235023],\n",
       "       [56.76506 ],\n",
       "       [56.10753 ],\n",
       "       [55.381977],\n",
       "       [55.493267],\n",
       "       [55.76068 ],\n",
       "       [56.240532],\n",
       "       [56.077   ],\n",
       "       [55.761623],\n",
       "       [56.003895]], dtype=float32)"
      ]
     },
     "execution_count": 23,
     "metadata": {},
     "output_type": "execute_result"
    }
   ],
   "source": [
    "prediction = model.predict(xtest)\n",
    "prediction[:20]"
   ]
  },
  {
   "cell_type": "code",
   "execution_count": 24,
   "metadata": {},
   "outputs": [
    {
     "data": {
      "text/plain": [
       "array([55.76, 55.6 , 56.01, 55.86, 56.42, 56.99, 56.53, 57.07, 57.22,\n",
       "       56.92, 56.31, 55.56, 54.81, 55.03, 55.42, 56.02, 55.81, 55.37,\n",
       "       55.7 , 55.66])"
      ]
     },
     "execution_count": 24,
     "metadata": {},
     "output_type": "execute_result"
    }
   ],
   "source": [
    "ytest = np.array(ytest)\n",
    "ytest[:20]"
   ]
  },
  {
   "cell_type": "code",
   "execution_count": 25,
   "metadata": {},
   "outputs": [
    {
     "data": {
      "text/plain": [
       "<matplotlib.legend.Legend at 0x1723abae7c8>"
      ]
     },
     "execution_count": 25,
     "metadata": {},
     "output_type": "execute_result"
    },
    {
     "data": {
      "image/png": "[encoded data removed]",
      "text/plain": [
       "<Figure size 864x720 with 1 Axes>"
      ]
     },
     "metadata": {
      "needs_background": "light"
     },
     "output_type": "display_data"
    }
   ],
   "source": [
    "plt.figure(figsize = (12,10))\n",
    "plt.plot(ytest, label = 'Actual')\n",
    "plt.plot(prediction, label = 'Predicted')\n",
    "plt.legend()"
   ]
  },
  {
   "cell_type": "code",
   "execution_count": null,
   "metadata": {},
   "outputs": [],
   "source": []
  }
 ],
 "metadata": {
  "kernelspec": {
   "display_name": "Python 3",
   "language": "python",
   "name": "python3"
  },
  "language_info": {
   "codemirror_mode": {
    "name": "ipython",
    "version": 3
   },
   "file_extension": ".py",
   "mimetype": "text/x-python",
   "name": "python",
   "nbconvert_exporter": "python",
   "pygments_lexer": "ipython3",
   "version": "3.7.6"
  }
 },
 "nbformat": 4,
 "nbformat_minor": 4
}
