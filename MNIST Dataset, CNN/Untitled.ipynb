{
 "cells": [
  {
   "cell_type": "markdown",
   "metadata": {},
   "source": [
    "# MNIST digit prediction using CNN\n"
   ]
  },
  {
   "cell_type": "code",
   "execution_count": 34,
   "metadata": {},
   "outputs": [],
   "source": [
    "import numpy as np\n",
    "import pandas as pd"
   ]
  },
  {
   "cell_type": "code",
   "execution_count": 35,
   "metadata": {},
   "outputs": [],
   "source": [
    "import keras\n",
    "from keras.datasets import mnist\n",
    "from keras.models import Sequential"
   ]
  },
  {
   "cell_type": "code",
   "execution_count": 36,
   "metadata": {},
   "outputs": [],
   "source": [
    "(xtrain, ytrain), (xtest, ytest) = mnist.load_data()"
   ]
  },
  {
   "cell_type": "code",
   "execution_count": 37,
   "metadata": {},
   "outputs": [
    {
     "data": {
      "text/plain": [
       "(60000, 28, 28)"
      ]
     },
     "execution_count": 37,
     "metadata": {},
     "output_type": "execute_result"
    }
   ],
   "source": [
    "xtrain.shape"
   ]
  },
  {
   "cell_type": "code",
   "execution_count": 38,
   "metadata": {},
   "outputs": [],
   "source": [
    "#We have 60,000 Greyscale Images of dimension 28*28 in the test set.\n"
   ]
  },
  {
   "cell_type": "code",
   "execution_count": 39,
   "metadata": {},
   "outputs": [],
   "source": [
    "#Normalizing the data by dividing with 255:\n",
    "xtest = xtest/255\n",
    "xtrain = xtrain/255"
   ]
  },
  {
   "cell_type": "code",
   "execution_count": 40,
   "metadata": {},
   "outputs": [],
   "source": [
    "xtrain = xtrain.reshape(-1,28,28,1)"
   ]
  },
  {
   "cell_type": "code",
   "execution_count": 41,
   "metadata": {},
   "outputs": [
    {
     "data": {
      "text/plain": [
       "(28, 28, 1)"
      ]
     },
     "execution_count": 41,
     "metadata": {},
     "output_type": "execute_result"
    }
   ],
   "source": [
    "xtrain[2].shape"
   ]
  },
  {
   "cell_type": "code",
   "execution_count": 42,
   "metadata": {},
   "outputs": [],
   "source": [
    "xtest = xtest.reshape(-1,28,28,1)"
   ]
  },
  {
   "cell_type": "code",
   "execution_count": 43,
   "metadata": {},
   "outputs": [
    {
     "data": {
      "text/plain": [
       "(10000, 28, 28, 1)"
      ]
     },
     "execution_count": 43,
     "metadata": {},
     "output_type": "execute_result"
    }
   ],
   "source": [
    "xtest.shape"
   ]
  },
  {
   "cell_type": "code",
   "execution_count": 44,
   "metadata": {},
   "outputs": [
    {
     "data": {
      "text/plain": [
       "dtype('float64')"
      ]
     },
     "execution_count": 44,
     "metadata": {},
     "output_type": "execute_result"
    }
   ],
   "source": [
    "xtest.dtype"
   ]
  },
  {
   "cell_type": "code",
   "execution_count": 45,
   "metadata": {},
   "outputs": [
    {
     "data": {
      "text/plain": [
       "dtype('float64')"
      ]
     },
     "execution_count": 45,
     "metadata": {},
     "output_type": "execute_result"
    }
   ],
   "source": [
    "xtrain.dtype"
   ]
  },
  {
   "cell_type": "code",
   "execution_count": 46,
   "metadata": {},
   "outputs": [],
   "source": [
    "#Encoding y:\n",
    "\n",
    "y_train = keras.utils.to_categorical(ytrain, 10)\n",
    "y_test = keras.utils.to_categorical(ytest,10)"
   ]
  },
  {
   "cell_type": "code",
   "execution_count": 54,
   "metadata": {},
   "outputs": [],
   "source": [
    "#Let us view random images along with their labels:\n",
    "from random import randrange\n",
    "import matplotlib.pyplot as plt\n",
    "from PIL import Image\n",
    "\n"
   ]
  },
  {
   "cell_type": "code",
   "execution_count": 57,
   "metadata": {},
   "outputs": [
    {
     "name": "stdout",
     "output_type": "stream",
     "text": [
      "20566 th digit is:\n",
      "digit of the given image:  7\n"
     ]
    },
    {
     "data": {
      "image/png": "[encoded data removed]",
      "text/plain": [
       "<Figure size 432x288 with 1 Axes>"
      ]
     },
     "metadata": {
      "needs_background": "light"
     },
     "output_type": "display_data"
    },
    {
     "name": "stdout",
     "output_type": "stream",
     "text": [
      "59425 th digit is:\n",
      "digit of the given image:  2\n"
     ]
    },
    {
     "data": {
      "image/png": "[encoded data removed]",
      "text/plain": [
       "<Figure size 432x288 with 1 Axes>"
      ]
     },
     "metadata": {
      "needs_background": "light"
     },
     "output_type": "display_data"
    },
    {
     "name": "stdout",
     "output_type": "stream",
     "text": [
      "7953 th digit is:\n",
      "digit of the given image:  2\n"
     ]
    },
    {
     "data": {
      "image/png": "[encoded data removed]",
      "text/plain": [
       "<Figure size 432x288 with 1 Axes>"
      ]
     },
     "metadata": {
      "needs_background": "light"
     },
     "output_type": "display_data"
    },
    {
     "name": "stdout",
     "output_type": "stream",
     "text": [
      "30920 th digit is:\n",
      "digit of the given image:  1\n"
     ]
    },
    {
     "data": {
      "image/png": "[encoded data removed]",
      "text/plain": [
       "<Figure size 432x288 with 1 Axes>"
      ]
     },
     "metadata": {
      "needs_background": "light"
     },
     "output_type": "display_data"
    },
    {
     "name": "stdout",
     "output_type": "stream",
     "text": [
      "27859 th digit is:\n",
      "digit of the given image:  0\n"
     ]
    },
    {
     "data": {
      "image/png": "[encoded data removed]",
      "text/plain": [
       "<Figure size 432x288 with 1 Axes>"
      ]
     },
     "metadata": {
      "needs_background": "light"
     },
     "output_type": "display_data"
    },
    {
     "name": "stdout",
     "output_type": "stream",
     "text": [
      "36627 th digit is:\n",
      "digit of the given image:  8\n"
     ]
    },
    {
     "data": {
      "image/png": "[encoded data removed]",
      "text/plain": [
       "<Figure size 432x288 with 1 Axes>"
      ]
     },
     "metadata": {
      "needs_background": "light"
     },
     "output_type": "display_data"
    },
    {
     "name": "stdout",
     "output_type": "stream",
     "text": [
      "12713 th digit is:\n",
      "digit of the given image:  5\n"
     ]
    },
    {
     "data": {
      "image/png": "[encoded data removed]",
      "text/plain": [
       "<Figure size 432x288 with 1 Axes>"
      ]
     },
     "metadata": {
      "needs_background": "light"
     },
     "output_type": "display_data"
    },
    {
     "name": "stdout",
     "output_type": "stream",
     "text": [
      "50681 th digit is:\n",
      "digit of the given image:  7\n"
     ]
    },
    {
     "data": {
      "image/png": "[encoded data removed]",
      "text/plain": [
       "<Figure size 432x288 with 1 Axes>"
      ]
     },
     "metadata": {
      "needs_background": "light"
     },
     "output_type": "display_data"
    },
    {
     "name": "stdout",
     "output_type": "stream",
     "text": [
      "46812 th digit is:\n",
      "digit of the given image:  0\n"
     ]
    },
    {
     "data": {
      "image/png": "[encoded data removed]",
      "text/plain": [
       "<Figure size 432x288 with 1 Axes>"
      ]
     },
     "metadata": {
      "needs_background": "light"
     },
     "output_type": "display_data"
    },
    {
     "name": "stdout",
     "output_type": "stream",
     "text": [
      "24866 th digit is:\n",
      "digit of the given image:  4\n"
     ]
    },
    {
     "data": {
      "image/png": "[encoded data removed]",
      "text/plain": [
       "<Figure size 432x288 with 1 Axes>"
      ]
     },
     "metadata": {
      "needs_background": "light"
     },
     "output_type": "display_data"
    }
   ],
   "source": [
    "for i in range(10):\n",
    "    l = randrange(60000)\n",
    "    print(l, \"th digit is:\")\n",
    "    print(\"digit of the given image: \", ytrain[l])\n",
    "    plt.imshow(xtrain.reshape(60000,28,28)[l],cmap=\"gray\")\n",
    "    plt.show()"
   ]
  },
  {
   "cell_type": "code",
   "execution_count": 59,
   "metadata": {},
   "outputs": [],
   "source": [
    "from keras.layers import Conv2D, MaxPool2D, Dropout, Flatten, Dense,BatchNormalization\n",
    "from keras.models import Sequential"
   ]
  },
  {
   "cell_type": "code",
   "execution_count": 67,
   "metadata": {},
   "outputs": [],
   "source": [
    "#Let us build a CNN model:\n",
    "\n",
    "model=Sequential()\n",
    "    \n",
    "model.add(Conv2D(256,(3,3), activation='relu', input_shape=xtrain[1].shape,padding='same'))\n",
    "model.add(MaxPool2D(pool_size=(2,2)))\n",
    "model.add(BatchNormalization())\n",
    "model.add(Dropout(0.25))\n",
    "    \n",
    "model.add(Conv2D(128,(3,3),activation='relu',padding='same'))\n",
    "model.add(MaxPool2D(pool_size=(2,2)))\n",
    "model.add(BatchNormalization())\n",
    "model.add(Dropout(0.25))\n",
    "    \n",
    "model.add(Conv2D(64,(3,3),activation='relu',padding='same'))\n",
    "model.add(MaxPool2D(pool_size=(2,2)))\n",
    "model.add(BatchNormalization())\n",
    "\n",
    "model.add(Flatten())\n",
    "model.add(Dense(10,activation='sigmoid'))"
   ]
  },
  {
   "cell_type": "code",
   "execution_count": 68,
   "metadata": {},
   "outputs": [],
   "source": [
    "model.compile(loss='categorical_crossentropy',\n",
    "              optimizer='adam',\n",
    "              metrics=['accuracy'])"
   ]
  },
  {
   "cell_type": "code",
   "execution_count": 69,
   "metadata": {},
   "outputs": [
    {
     "name": "stdout",
     "output_type": "stream",
     "text": [
      "Train on 60000 samples, validate on 10000 samples\n",
      "Epoch 1/20\n",
      " - 80s - loss: 0.2372 - accuracy: 0.9255 - val_loss: 0.1116 - val_accuracy: 0.9664\n",
      "Epoch 2/20\n",
      " - 66s - loss: 0.0931 - accuracy: 0.9714 - val_loss: 0.0485 - val_accuracy: 0.9842\n",
      "Epoch 3/20\n",
      " - 77s - loss: 0.0730 - accuracy: 0.9769 - val_loss: 0.0432 - val_accuracy: 0.9862\n",
      "Epoch 4/20\n",
      " - 73s - loss: 0.0621 - accuracy: 0.9811 - val_loss: 0.0390 - val_accuracy: 0.9868\n",
      "Epoch 5/20\n",
      " - 61s - loss: 0.0574 - accuracy: 0.9821 - val_loss: 0.0417 - val_accuracy: 0.9850\n",
      "Epoch 6/20\n",
      " - 57s - loss: 0.0534 - accuracy: 0.9834 - val_loss: 0.0381 - val_accuracy: 0.9881\n",
      "Epoch 7/20\n",
      " - 59s - loss: 0.0489 - accuracy: 0.9845 - val_loss: 0.0364 - val_accuracy: 0.9879\n",
      "Epoch 8/20\n",
      " - 68s - loss: 0.0456 - accuracy: 0.9854 - val_loss: 0.0344 - val_accuracy: 0.9888\n",
      "Epoch 9/20\n",
      " - 71s - loss: 0.0436 - accuracy: 0.9861 - val_loss: 0.0376 - val_accuracy: 0.9881\n",
      "Epoch 10/20\n",
      " - 77s - loss: 0.0406 - accuracy: 0.9867 - val_loss: 0.0279 - val_accuracy: 0.9907\n",
      "Epoch 11/20\n",
      " - 70s - loss: 0.0403 - accuracy: 0.9864 - val_loss: 0.0303 - val_accuracy: 0.9908\n",
      "Epoch 12/20\n",
      " - 76s - loss: 0.0392 - accuracy: 0.9874 - val_loss: 0.0271 - val_accuracy: 0.9906\n",
      "Epoch 13/20\n",
      " - 70s - loss: 0.0362 - accuracy: 0.9885 - val_loss: 0.0323 - val_accuracy: 0.9900\n",
      "Epoch 14/20\n",
      " - 82s - loss: 0.0362 - accuracy: 0.9881 - val_loss: 0.0258 - val_accuracy: 0.9913\n",
      "Epoch 15/20\n",
      " - 63s - loss: 0.0341 - accuracy: 0.9889 - val_loss: 0.0247 - val_accuracy: 0.9916\n",
      "Epoch 16/20\n",
      " - 63s - loss: 0.0342 - accuracy: 0.9889 - val_loss: 0.0337 - val_accuracy: 0.9892\n",
      "Epoch 17/20\n",
      " - 75s - loss: 0.0328 - accuracy: 0.9889 - val_loss: 0.0273 - val_accuracy: 0.9904\n",
      "Epoch 18/20\n",
      " - 78s - loss: 0.0321 - accuracy: 0.9894 - val_loss: 0.0300 - val_accuracy: 0.9901\n",
      "Epoch 19/20\n",
      " - 80s - loss: 0.0327 - accuracy: 0.9892 - val_loss: 0.0279 - val_accuracy: 0.9915\n",
      "Epoch 20/20\n",
      " - 73s - loss: 0.0312 - accuracy: 0.9894 - val_loss: 0.0276 - val_accuracy: 0.9910\n"
     ]
    }
   ],
   "source": [
    "history = model.fit(xtrain, y_train,\n",
    "                    batch_size=100,\n",
    "                    epochs=20,\n",
    "                    verbose=2,\n",
    "                    validation_data=(xtest, y_test))"
   ]
  },
  {
   "cell_type": "code",
   "execution_count": 70,
   "metadata": {},
   "outputs": [
    {
     "data": {
      "text/plain": [
       "<matplotlib.axes._subplots.AxesSubplot at 0x2423e42b0c8>"
      ]
     },
     "execution_count": 70,
     "metadata": {},
     "output_type": "execute_result"
    },
    {
     "data": {
      "image/png": "[encoded data removed]",
      "text/plain": [
       "<Figure size 432x288 with 1 Axes>"
      ]
     },
     "metadata": {
      "needs_background": "light"
     },
     "output_type": "display_data"
    }
   ],
   "source": [
    "df_result = pd.DataFrame.from_dict(history.history)\n",
    "df_result['accuracy'].plot()"
   ]
  },
  {
   "cell_type": "code",
   "execution_count": 71,
   "metadata": {},
   "outputs": [
    {
     "data": {
      "text/plain": [
       "<matplotlib.axes._subplots.AxesSubplot at 0x24242721fc8>"
      ]
     },
     "execution_count": 71,
     "metadata": {},
     "output_type": "execute_result"
    },
    {
     "data": {
      "image/png": "[encoded data removed]",
      "text/plain": [
       "<Figure size 432x288 with 1 Axes>"
      ]
     },
     "metadata": {
      "needs_background": "light"
     },
     "output_type": "display_data"
    }
   ],
   "source": [
    "df_result['loss'].plot()"
   ]
  },
  {
   "cell_type": "code",
   "execution_count": null,
   "metadata": {},
   "outputs": [],
   "source": []
  }
 ],
 "metadata": {
  "kernelspec": {
   "display_name": "Python 3",
   "language": "python",
   "name": "python3"
  },
  "language_info": {
   "codemirror_mode": {
    "name": "ipython",
    "version": 3
   },
   "file_extension": ".py",
   "mimetype": "text/x-python",
   "name": "python",
   "nbconvert_exporter": "python",
   "pygments_lexer": "ipython3",
   "version": "3.7.4"
  }
 },
 "nbformat": 4,
 "nbformat_minor": 2
}
