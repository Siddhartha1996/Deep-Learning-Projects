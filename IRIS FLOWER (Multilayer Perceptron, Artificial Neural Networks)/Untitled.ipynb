{
 "cells": [
  {
   "cell_type": "code",
   "execution_count": 1,
   "metadata": {},
   "outputs": [],
   "source": [
    "import numpy as np\n",
    "import pandas as pd\n",
    "df = pd.read_csv('IRIS.csv')  "
   ]
  },
  {
   "cell_type": "code",
   "execution_count": 2,
   "metadata": {},
   "outputs": [
    {
     "data": {
      "text/html": [
       "<div>\n",
       "<style scoped>\n",
       "    .dataframe tbody tr th:only-of-type {\n",
       "        vertical-align: middle;\n",
       "    }\n",
       "\n",
       "    .dataframe tbody tr th {\n",
       "        vertical-align: top;\n",
       "    }\n",
       "\n",
       "    .dataframe thead th {\n",
       "        text-align: right;\n",
       "    }\n",
       "</style>\n",
       "<table border=\"1\" class=\"dataframe\">\n",
       "  <thead>\n",
       "    <tr style=\"text-align: right;\">\n",
       "      <th></th>\n",
       "      <th>sepal_length</th>\n",
       "      <th>sepal_width</th>\n",
       "      <th>petal_length</th>\n",
       "      <th>petal_width</th>\n",
       "      <th>species</th>\n",
       "    </tr>\n",
       "  </thead>\n",
       "  <tbody>\n",
       "    <tr>\n",
       "      <td>0</td>\n",
       "      <td>5.1</td>\n",
       "      <td>3.5</td>\n",
       "      <td>1.4</td>\n",
       "      <td>0.2</td>\n",
       "      <td>Iris-setosa</td>\n",
       "    </tr>\n",
       "    <tr>\n",
       "      <td>1</td>\n",
       "      <td>4.9</td>\n",
       "      <td>3.0</td>\n",
       "      <td>1.4</td>\n",
       "      <td>0.2</td>\n",
       "      <td>Iris-setosa</td>\n",
       "    </tr>\n",
       "    <tr>\n",
       "      <td>2</td>\n",
       "      <td>4.7</td>\n",
       "      <td>3.2</td>\n",
       "      <td>1.3</td>\n",
       "      <td>0.2</td>\n",
       "      <td>Iris-setosa</td>\n",
       "    </tr>\n",
       "    <tr>\n",
       "      <td>3</td>\n",
       "      <td>4.6</td>\n",
       "      <td>3.1</td>\n",
       "      <td>1.5</td>\n",
       "      <td>0.2</td>\n",
       "      <td>Iris-setosa</td>\n",
       "    </tr>\n",
       "    <tr>\n",
       "      <td>4</td>\n",
       "      <td>5.0</td>\n",
       "      <td>3.6</td>\n",
       "      <td>1.4</td>\n",
       "      <td>0.2</td>\n",
       "      <td>Iris-setosa</td>\n",
       "    </tr>\n",
       "  </tbody>\n",
       "</table>\n",
       "</div>"
      ],
      "text/plain": [
       "   sepal_length  sepal_width  petal_length  petal_width      species\n",
       "0           5.1          3.5           1.4          0.2  Iris-setosa\n",
       "1           4.9          3.0           1.4          0.2  Iris-setosa\n",
       "2           4.7          3.2           1.3          0.2  Iris-setosa\n",
       "3           4.6          3.1           1.5          0.2  Iris-setosa\n",
       "4           5.0          3.6           1.4          0.2  Iris-setosa"
      ]
     },
     "execution_count": 2,
     "metadata": {},
     "output_type": "execute_result"
    }
   ],
   "source": [
    "df.head()"
   ]
  },
  {
   "cell_type": "code",
   "execution_count": 3,
   "metadata": {},
   "outputs": [
    {
     "data": {
      "text/html": [
       "<div>\n",
       "<style scoped>\n",
       "    .dataframe tbody tr th:only-of-type {\n",
       "        vertical-align: middle;\n",
       "    }\n",
       "\n",
       "    .dataframe tbody tr th {\n",
       "        vertical-align: top;\n",
       "    }\n",
       "\n",
       "    .dataframe thead th {\n",
       "        text-align: right;\n",
       "    }\n",
       "</style>\n",
       "<table border=\"1\" class=\"dataframe\">\n",
       "  <thead>\n",
       "    <tr style=\"text-align: right;\">\n",
       "      <th></th>\n",
       "      <th>sepal_length</th>\n",
       "      <th>sepal_width</th>\n",
       "      <th>petal_length</th>\n",
       "      <th>petal_width</th>\n",
       "      <th>species</th>\n",
       "    </tr>\n",
       "  </thead>\n",
       "  <tbody>\n",
       "    <tr>\n",
       "      <td>145</td>\n",
       "      <td>6.7</td>\n",
       "      <td>3.0</td>\n",
       "      <td>5.2</td>\n",
       "      <td>2.3</td>\n",
       "      <td>Iris-virginica</td>\n",
       "    </tr>\n",
       "    <tr>\n",
       "      <td>146</td>\n",
       "      <td>6.3</td>\n",
       "      <td>2.5</td>\n",
       "      <td>5.0</td>\n",
       "      <td>1.9</td>\n",
       "      <td>Iris-virginica</td>\n",
       "    </tr>\n",
       "    <tr>\n",
       "      <td>147</td>\n",
       "      <td>6.5</td>\n",
       "      <td>3.0</td>\n",
       "      <td>5.2</td>\n",
       "      <td>2.0</td>\n",
       "      <td>Iris-virginica</td>\n",
       "    </tr>\n",
       "    <tr>\n",
       "      <td>148</td>\n",
       "      <td>6.2</td>\n",
       "      <td>3.4</td>\n",
       "      <td>5.4</td>\n",
       "      <td>2.3</td>\n",
       "      <td>Iris-virginica</td>\n",
       "    </tr>\n",
       "    <tr>\n",
       "      <td>149</td>\n",
       "      <td>5.9</td>\n",
       "      <td>3.0</td>\n",
       "      <td>5.1</td>\n",
       "      <td>1.8</td>\n",
       "      <td>Iris-virginica</td>\n",
       "    </tr>\n",
       "  </tbody>\n",
       "</table>\n",
       "</div>"
      ],
      "text/plain": [
       "     sepal_length  sepal_width  petal_length  petal_width         species\n",
       "145           6.7          3.0           5.2          2.3  Iris-virginica\n",
       "146           6.3          2.5           5.0          1.9  Iris-virginica\n",
       "147           6.5          3.0           5.2          2.0  Iris-virginica\n",
       "148           6.2          3.4           5.4          2.3  Iris-virginica\n",
       "149           5.9          3.0           5.1          1.8  Iris-virginica"
      ]
     },
     "execution_count": 3,
     "metadata": {},
     "output_type": "execute_result"
    }
   ],
   "source": [
    "df.tail()"
   ]
  },
  {
   "cell_type": "code",
   "execution_count": 4,
   "metadata": {},
   "outputs": [
    {
     "data": {
      "text/plain": [
       "(150, 5)"
      ]
     },
     "execution_count": 4,
     "metadata": {},
     "output_type": "execute_result"
    }
   ],
   "source": [
    "df.shape"
   ]
  },
  {
   "cell_type": "code",
   "execution_count": 5,
   "metadata": {},
   "outputs": [],
   "source": [
    "import matplotlib.pyplot as plt\n",
    "import seaborn as sns\n",
    "import warnings\n",
    "warnings.filterwarnings('ignore')\n",
    "%matplotlib inline"
   ]
  },
  {
   "cell_type": "code",
   "execution_count": 6,
   "metadata": {},
   "outputs": [
    {
     "data": {
      "text/plain": [
       "<matplotlib.axes._subplots.AxesSubplot at 0x231e5fbebc8>"
      ]
     },
     "execution_count": 6,
     "metadata": {},
     "output_type": "execute_result"
    },
    {
     "data": {
      "image/png": "[encoded data removed]",
      "text/plain": [
       "<Figure size 432x288 with 2 Axes>"
      ]
     },
     "metadata": {
      "needs_background": "light"
     },
     "output_type": "display_data"
    }
   ],
   "source": [
    "\n",
    "sns.heatmap(df.isna())"
   ]
  },
  {
   "cell_type": "code",
   "execution_count": 7,
   "metadata": {},
   "outputs": [
    {
     "data": {
      "text/plain": [
       "3"
      ]
     },
     "execution_count": 7,
     "metadata": {},
     "output_type": "execute_result"
    }
   ],
   "source": [
    "df.duplicated().sum()"
   ]
  },
  {
   "cell_type": "code",
   "execution_count": 8,
   "metadata": {},
   "outputs": [
    {
     "name": "stdout",
     "output_type": "stream",
     "text": [
      "<class 'pandas.core.frame.DataFrame'>\n",
      "RangeIndex: 150 entries, 0 to 149\n",
      "Data columns (total 5 columns):\n",
      "sepal_length    150 non-null float64\n",
      "sepal_width     150 non-null float64\n",
      "petal_length    150 non-null float64\n",
      "petal_width     150 non-null float64\n",
      "species         150 non-null object\n",
      "dtypes: float64(4), object(1)\n",
      "memory usage: 6.0+ KB\n"
     ]
    }
   ],
   "source": [
    "df.info()"
   ]
  },
  {
   "cell_type": "code",
   "execution_count": 9,
   "metadata": {},
   "outputs": [
    {
     "data": {
      "text/plain": [
       "sepal_length    float64\n",
       "sepal_width     float64\n",
       "petal_length    float64\n",
       "petal_width     float64\n",
       "species          object\n",
       "dtype: object"
      ]
     },
     "execution_count": 9,
     "metadata": {},
     "output_type": "execute_result"
    }
   ],
   "source": [
    "df.dtypes"
   ]
  },
  {
   "cell_type": "code",
   "execution_count": 10,
   "metadata": {},
   "outputs": [
    {
     "data": {
      "text/html": [
       "<div>\n",
       "<style scoped>\n",
       "    .dataframe tbody tr th:only-of-type {\n",
       "        vertical-align: middle;\n",
       "    }\n",
       "\n",
       "    .dataframe tbody tr th {\n",
       "        vertical-align: top;\n",
       "    }\n",
       "\n",
       "    .dataframe thead th {\n",
       "        text-align: right;\n",
       "    }\n",
       "</style>\n",
       "<table border=\"1\" class=\"dataframe\">\n",
       "  <thead>\n",
       "    <tr style=\"text-align: right;\">\n",
       "      <th></th>\n",
       "      <th>sepal_length</th>\n",
       "      <th>sepal_width</th>\n",
       "      <th>petal_length</th>\n",
       "      <th>petal_width</th>\n",
       "    </tr>\n",
       "  </thead>\n",
       "  <tbody>\n",
       "    <tr>\n",
       "      <td>count</td>\n",
       "      <td>150.000000</td>\n",
       "      <td>150.000000</td>\n",
       "      <td>150.000000</td>\n",
       "      <td>150.000000</td>\n",
       "    </tr>\n",
       "    <tr>\n",
       "      <td>mean</td>\n",
       "      <td>5.843333</td>\n",
       "      <td>3.054000</td>\n",
       "      <td>3.758667</td>\n",
       "      <td>1.198667</td>\n",
       "    </tr>\n",
       "    <tr>\n",
       "      <td>std</td>\n",
       "      <td>0.828066</td>\n",
       "      <td>0.433594</td>\n",
       "      <td>1.764420</td>\n",
       "      <td>0.763161</td>\n",
       "    </tr>\n",
       "    <tr>\n",
       "      <td>min</td>\n",
       "      <td>4.300000</td>\n",
       "      <td>2.000000</td>\n",
       "      <td>1.000000</td>\n",
       "      <td>0.100000</td>\n",
       "    </tr>\n",
       "    <tr>\n",
       "      <td>25%</td>\n",
       "      <td>5.100000</td>\n",
       "      <td>2.800000</td>\n",
       "      <td>1.600000</td>\n",
       "      <td>0.300000</td>\n",
       "    </tr>\n",
       "    <tr>\n",
       "      <td>50%</td>\n",
       "      <td>5.800000</td>\n",
       "      <td>3.000000</td>\n",
       "      <td>4.350000</td>\n",
       "      <td>1.300000</td>\n",
       "    </tr>\n",
       "    <tr>\n",
       "      <td>75%</td>\n",
       "      <td>6.400000</td>\n",
       "      <td>3.300000</td>\n",
       "      <td>5.100000</td>\n",
       "      <td>1.800000</td>\n",
       "    </tr>\n",
       "    <tr>\n",
       "      <td>max</td>\n",
       "      <td>7.900000</td>\n",
       "      <td>4.400000</td>\n",
       "      <td>6.900000</td>\n",
       "      <td>2.500000</td>\n",
       "    </tr>\n",
       "  </tbody>\n",
       "</table>\n",
       "</div>"
      ],
      "text/plain": [
       "       sepal_length  sepal_width  petal_length  petal_width\n",
       "count    150.000000   150.000000    150.000000   150.000000\n",
       "mean       5.843333     3.054000      3.758667     1.198667\n",
       "std        0.828066     0.433594      1.764420     0.763161\n",
       "min        4.300000     2.000000      1.000000     0.100000\n",
       "25%        5.100000     2.800000      1.600000     0.300000\n",
       "50%        5.800000     3.000000      4.350000     1.300000\n",
       "75%        6.400000     3.300000      5.100000     1.800000\n",
       "max        7.900000     4.400000      6.900000     2.500000"
      ]
     },
     "execution_count": 10,
     "metadata": {},
     "output_type": "execute_result"
    }
   ],
   "source": [
    "df.describe()"
   ]
  },
  {
   "cell_type": "markdown",
   "metadata": {},
   "source": [
    "# Exploratory Data Analysis:"
   ]
  },
  {
   "cell_type": "code",
   "execution_count": 11,
   "metadata": {},
   "outputs": [
    {
     "data": {
      "text/plain": [
       "<matplotlib.axes._subplots.AxesSubplot at 0x231e13f9788>"
      ]
     },
     "execution_count": 11,
     "metadata": {},
     "output_type": "execute_result"
    },
    {
     "data": {
      "image/png": "[encoded data removed]",
      "text/plain": [
       "<Figure size 432x288 with 1 Axes>"
      ]
     },
     "metadata": {
      "needs_background": "light"
     },
     "output_type": "display_data"
    }
   ],
   "source": [
    "sns.countplot(df.species)"
   ]
  },
  {
   "cell_type": "code",
   "execution_count": 12,
   "metadata": {},
   "outputs": [
    {
     "data": {
      "text/plain": [
       "<matplotlib.axes._subplots.AxesSubplot at 0x231e7436208>"
      ]
     },
     "execution_count": 12,
     "metadata": {},
     "output_type": "execute_result"
    },
    {
     "data": {
      "image/png": "[encoded data removed]",
      "text/plain": [
       "<Figure size 432x288 with 1 Axes>"
      ]
     },
     "metadata": {
      "needs_background": "light"
     },
     "output_type": "display_data"
    }
   ],
   "source": [
    "sns.boxplot(df.species,df.sepal_length)"
   ]
  },
  {
   "cell_type": "code",
   "execution_count": 13,
   "metadata": {},
   "outputs": [
    {
     "data": {
      "text/plain": [
       "<matplotlib.axes._subplots.AxesSubplot at 0x231e74dcd88>"
      ]
     },
     "execution_count": 13,
     "metadata": {},
     "output_type": "execute_result"
    },
    {
     "data": {
      "image/png": "[encoded data removed]",
      "text/plain": [
       "<Figure size 432x288 with 1 Axes>"
      ]
     },
     "metadata": {
      "needs_background": "light"
     },
     "output_type": "display_data"
    }
   ],
   "source": [
    "sns.boxplot(df.species,df.petal_length)"
   ]
  },
  {
   "cell_type": "code",
   "execution_count": 14,
   "metadata": {},
   "outputs": [
    {
     "data": {
      "text/plain": [
       "<matplotlib.axes._subplots.AxesSubplot at 0x231e7556ac8>"
      ]
     },
     "execution_count": 14,
     "metadata": {},
     "output_type": "execute_result"
    },
    {
     "data": {
      "image/png": "[encoded data removed]",
      "text/plain": [
       "<Figure size 432x288 with 1 Axes>"
      ]
     },
     "metadata": {
      "needs_background": "light"
     },
     "output_type": "display_data"
    }
   ],
   "source": [
    "sns.boxplot(df.species,df.sepal_width)"
   ]
  },
  {
   "cell_type": "code",
   "execution_count": 15,
   "metadata": {},
   "outputs": [
    {
     "data": {
      "text/plain": [
       "<seaborn.axisgrid.PairGrid at 0x231e7561188>"
      ]
     },
     "execution_count": 15,
     "metadata": {},
     "output_type": "execute_result"
    },
    {
     "data": {
      "image/png": "[encoded data removed]",
      "text/plain": [
       "<Figure size 823.25x720 with 20 Axes>"
      ]
     },
     "metadata": {
      "needs_background": "light"
     },
     "output_type": "display_data"
    }
   ],
   "source": [
    "sns.pairplot(df,hue='species')"
   ]
  },
  {
   "cell_type": "code",
   "execution_count": 16,
   "metadata": {},
   "outputs": [
    {
     "data": {
      "text/plain": [
       "<matplotlib.axes._subplots.AxesSubplot at 0x231e7e90bc8>"
      ]
     },
     "execution_count": 16,
     "metadata": {},
     "output_type": "execute_result"
    },
    {
     "data": {
      "image/png": "[encoded data removed]",
      "text/plain": [
       "<Figure size 864x576 with 2 Axes>"
      ]
     },
     "metadata": {
      "needs_background": "light"
     },
     "output_type": "display_data"
    }
   ],
   "source": [
    "plt.figure(figsize=(12,8))\n",
    "sns.heatmap(df.corr(),annot=True,cmap='Blues')"
   ]
  },
  {
   "cell_type": "code",
   "execution_count": 17,
   "metadata": {},
   "outputs": [],
   "source": [
    "#Scaling the data:"
   ]
  },
  {
   "cell_type": "code",
   "execution_count": 18,
   "metadata": {},
   "outputs": [],
   "source": [
    "from sklearn.preprocessing import StandardScaler\n",
    "from sklearn.model_selection import train_test_split\n",
    "from sklearn.model_selection import cross_val_score"
   ]
  },
  {
   "cell_type": "code",
   "execution_count": 19,
   "metadata": {},
   "outputs": [],
   "source": [
    "from sklearn.preprocessing import LabelEncoder "
   ]
  },
  {
   "cell_type": "code",
   "execution_count": 20,
   "metadata": {},
   "outputs": [],
   "source": [
    "labelencoder= LabelEncoder()"
   ]
  },
  {
   "cell_type": "code",
   "execution_count": 21,
   "metadata": {},
   "outputs": [],
   "source": [
    "target = pd.get_dummies(df['species'])"
   ]
  },
  {
   "cell_type": "code",
   "execution_count": 22,
   "metadata": {},
   "outputs": [
    {
     "data": {
      "text/html": [
       "<div>\n",
       "<style scoped>\n",
       "    .dataframe tbody tr th:only-of-type {\n",
       "        vertical-align: middle;\n",
       "    }\n",
       "\n",
       "    .dataframe tbody tr th {\n",
       "        vertical-align: top;\n",
       "    }\n",
       "\n",
       "    .dataframe thead th {\n",
       "        text-align: right;\n",
       "    }\n",
       "</style>\n",
       "<table border=\"1\" class=\"dataframe\">\n",
       "  <thead>\n",
       "    <tr style=\"text-align: right;\">\n",
       "      <th></th>\n",
       "      <th>sepal_length</th>\n",
       "      <th>sepal_width</th>\n",
       "      <th>petal_length</th>\n",
       "      <th>petal_width</th>\n",
       "      <th>species</th>\n",
       "    </tr>\n",
       "  </thead>\n",
       "  <tbody>\n",
       "    <tr>\n",
       "      <td>0</td>\n",
       "      <td>5.1</td>\n",
       "      <td>3.5</td>\n",
       "      <td>1.4</td>\n",
       "      <td>0.2</td>\n",
       "      <td>Iris-setosa</td>\n",
       "    </tr>\n",
       "    <tr>\n",
       "      <td>1</td>\n",
       "      <td>4.9</td>\n",
       "      <td>3.0</td>\n",
       "      <td>1.4</td>\n",
       "      <td>0.2</td>\n",
       "      <td>Iris-setosa</td>\n",
       "    </tr>\n",
       "    <tr>\n",
       "      <td>2</td>\n",
       "      <td>4.7</td>\n",
       "      <td>3.2</td>\n",
       "      <td>1.3</td>\n",
       "      <td>0.2</td>\n",
       "      <td>Iris-setosa</td>\n",
       "    </tr>\n",
       "    <tr>\n",
       "      <td>3</td>\n",
       "      <td>4.6</td>\n",
       "      <td>3.1</td>\n",
       "      <td>1.5</td>\n",
       "      <td>0.2</td>\n",
       "      <td>Iris-setosa</td>\n",
       "    </tr>\n",
       "    <tr>\n",
       "      <td>4</td>\n",
       "      <td>5.0</td>\n",
       "      <td>3.6</td>\n",
       "      <td>1.4</td>\n",
       "      <td>0.2</td>\n",
       "      <td>Iris-setosa</td>\n",
       "    </tr>\n",
       "    <tr>\n",
       "      <td>...</td>\n",
       "      <td>...</td>\n",
       "      <td>...</td>\n",
       "      <td>...</td>\n",
       "      <td>...</td>\n",
       "      <td>...</td>\n",
       "    </tr>\n",
       "    <tr>\n",
       "      <td>145</td>\n",
       "      <td>6.7</td>\n",
       "      <td>3.0</td>\n",
       "      <td>5.2</td>\n",
       "      <td>2.3</td>\n",
       "      <td>Iris-virginica</td>\n",
       "    </tr>\n",
       "    <tr>\n",
       "      <td>146</td>\n",
       "      <td>6.3</td>\n",
       "      <td>2.5</td>\n",
       "      <td>5.0</td>\n",
       "      <td>1.9</td>\n",
       "      <td>Iris-virginica</td>\n",
       "    </tr>\n",
       "    <tr>\n",
       "      <td>147</td>\n",
       "      <td>6.5</td>\n",
       "      <td>3.0</td>\n",
       "      <td>5.2</td>\n",
       "      <td>2.0</td>\n",
       "      <td>Iris-virginica</td>\n",
       "    </tr>\n",
       "    <tr>\n",
       "      <td>148</td>\n",
       "      <td>6.2</td>\n",
       "      <td>3.4</td>\n",
       "      <td>5.4</td>\n",
       "      <td>2.3</td>\n",
       "      <td>Iris-virginica</td>\n",
       "    </tr>\n",
       "    <tr>\n",
       "      <td>149</td>\n",
       "      <td>5.9</td>\n",
       "      <td>3.0</td>\n",
       "      <td>5.1</td>\n",
       "      <td>1.8</td>\n",
       "      <td>Iris-virginica</td>\n",
       "    </tr>\n",
       "  </tbody>\n",
       "</table>\n",
       "<p>150 rows × 5 columns</p>\n",
       "</div>"
      ],
      "text/plain": [
       "     sepal_length  sepal_width  petal_length  petal_width         species\n",
       "0             5.1          3.5           1.4          0.2     Iris-setosa\n",
       "1             4.9          3.0           1.4          0.2     Iris-setosa\n",
       "2             4.7          3.2           1.3          0.2     Iris-setosa\n",
       "3             4.6          3.1           1.5          0.2     Iris-setosa\n",
       "4             5.0          3.6           1.4          0.2     Iris-setosa\n",
       "..            ...          ...           ...          ...             ...\n",
       "145           6.7          3.0           5.2          2.3  Iris-virginica\n",
       "146           6.3          2.5           5.0          1.9  Iris-virginica\n",
       "147           6.5          3.0           5.2          2.0  Iris-virginica\n",
       "148           6.2          3.4           5.4          2.3  Iris-virginica\n",
       "149           5.9          3.0           5.1          1.8  Iris-virginica\n",
       "\n",
       "[150 rows x 5 columns]"
      ]
     },
     "execution_count": 22,
     "metadata": {},
     "output_type": "execute_result"
    }
   ],
   "source": [
    "df"
   ]
  },
  {
   "cell_type": "code",
   "execution_count": 23,
   "metadata": {},
   "outputs": [],
   "source": [
    "y=target\n",
    "X=df.drop('species',axis=1)"
   ]
  },
  {
   "cell_type": "code",
   "execution_count": 24,
   "metadata": {},
   "outputs": [
    {
     "data": {
      "text/plain": [
       "((150, 4), (150, 3))"
      ]
     },
     "execution_count": 24,
     "metadata": {},
     "output_type": "execute_result"
    }
   ],
   "source": [
    "X.shape,y.shape"
   ]
  },
  {
   "cell_type": "code",
   "execution_count": 25,
   "metadata": {},
   "outputs": [],
   "source": [
    "#Train-Test Split"
   ]
  },
  {
   "cell_type": "code",
   "execution_count": 26,
   "metadata": {},
   "outputs": [],
   "source": [
    "X_train,X_test,y_train,y_test=train_test_split(X,y,test_size=0.20,random_state=42)"
   ]
  },
  {
   "cell_type": "code",
   "execution_count": 27,
   "metadata": {},
   "outputs": [],
   "source": [
    "sc=StandardScaler()\n",
    "X_train=sc.fit_transform(X_train)\n",
    "X_test=sc.fit_transform(X_test)"
   ]
  },
  {
   "cell_type": "code",
   "execution_count": 28,
   "metadata": {},
   "outputs": [
    {
     "data": {
      "text/plain": [
       "array([[-1.47393679,  1.22037928, -1.5639872 , -1.30948358],\n",
       "       [-0.13307079,  3.02001693, -1.27728011, -1.04292204],\n",
       "       [ 1.08589829,  0.09560575,  0.38562104,  0.28988568],\n",
       "       [-1.23014297,  0.77046987, -1.21993869, -1.30948358],\n",
       "       [-1.7177306 ,  0.32056046, -1.39196294, -1.30948358],\n",
       "       [ 0.59831066, -1.25412249,  0.72966956,  0.95628954],\n",
       "       [ 0.72020757,  0.32056046,  0.44296246,  0.42316645],\n",
       "       [-0.74255534,  0.99542457, -1.27728011, -1.30948358],\n",
       "       [-0.98634915,  1.22037928, -1.33462153, -1.30948358],\n",
       "       [-0.74255534,  2.34515281, -1.27728011, -1.44276436],\n",
       "       [-0.01117388, -0.80421307,  0.78701097,  0.95628954],\n",
       "       [ 0.23261993,  0.77046987,  0.44296246,  0.55644722],\n",
       "       [ 1.08589829,  0.09560575,  0.5576453 ,  0.42316645],\n",
       "       [-0.49876152,  1.8952434 , -1.39196294, -1.04292204],\n",
       "       [-0.49876152,  1.44533399, -1.27728011, -1.30948358],\n",
       "       [-0.37686461, -1.47907719, -0.01576889, -0.24323741],\n",
       "       [ 0.59831066, -0.57925837,  0.78701097,  0.42316645],\n",
       "       [ 0.72020757,  0.09560575,  1.01637665,  0.82300877],\n",
       "       [ 0.96400139, -0.12934896,  0.38562104,  0.28988568],\n",
       "       [ 1.69538284,  1.22037928,  1.36042516,  1.75597417],\n",
       "       [-0.13307079, -0.35430366,  0.2709382 ,  0.15660491],\n",
       "       [ 2.18297047, -0.12934896,  1.64713226,  1.22285108],\n",
       "       [-0.2549677 , -0.12934896,  0.44296246,  0.42316645],\n",
       "       [-0.86445224,  0.99542457, -1.33462153, -1.30948358],\n",
       "       [ 2.30486738, -0.57925837,  1.70447368,  1.08957031],\n",
       "       [-0.01117388, -0.80421307,  0.21359679, -0.24323741],\n",
       "       [-0.74255534,  0.77046987, -1.33462153, -1.30948358],\n",
       "       [-0.98634915,  0.99542457, -1.39196294, -1.17620281],\n",
       "       [-0.86445224,  1.67028869, -1.04791443, -1.04292204],\n",
       "       [-0.98634915, -2.37889602, -0.13045173, -0.24323741],\n",
       "       [ 0.59831066, -0.80421307,  0.67232814,  0.82300877],\n",
       "       [-1.23014297,  0.77046987, -1.04791443, -1.30948358],\n",
       "       [-0.98634915, -0.12934896, -1.21993869, -1.30948358],\n",
       "       [-0.86445224,  0.54551516, -1.16259727, -0.90964127],\n",
       "       [-0.2549677 , -0.80421307,  0.2709382 ,  0.15660491],\n",
       "       [-0.86445224,  0.77046987, -1.27728011, -1.30948358],\n",
       "       [-0.13307079, -0.12934896,  0.2709382 ,  0.02332414],\n",
       "       [ 2.30486738,  1.67028869,  1.70447368,  1.35613185],\n",
       "       [-1.47393679,  0.32056046, -1.33462153, -1.30948358],\n",
       "       [ 0.47641375, -0.35430366,  0.32827962,  0.15660491],\n",
       "       [-0.13307079, -1.25412249,  0.72966956,  1.08957031],\n",
       "       [-0.37686461,  2.57010752, -1.33462153, -1.30948358],\n",
       "       [ 0.23261993, -0.12934896,  0.61498672,  0.82300877],\n",
       "       [-0.01117388, -0.80421307,  0.78701097,  0.95628954],\n",
       "       [ 0.23261993, -1.9289866 ,  0.15625537, -0.24323741],\n",
       "       [-0.49876152, -0.12934896,  0.44296246,  0.42316645],\n",
       "       [ 0.47641375,  0.77046987,  0.95903523,  1.48941263],\n",
       "       [-0.37686461, -1.7040319 ,  0.15625537,  0.15660491],\n",
       "       [-0.49876152,  1.8952434 , -1.16259727, -1.04292204],\n",
       "       [-0.98634915, -1.7040319 , -0.24513457, -0.24323741],\n",
       "       [ 0.72020757, -0.80421307,  0.90169381,  0.95628954],\n",
       "       [-0.98634915,  0.54551516, -1.33462153, -1.30948358],\n",
       "       [-0.98634915,  0.32056046, -1.44930436, -1.30948358],\n",
       "       [-0.37686461, -1.47907719,  0.04157253, -0.10995664],\n",
       "       [ 1.08589829, -0.12934896,  0.72966956,  0.68972799],\n",
       "       [-1.10824606,  0.09560575, -1.27728011, -1.44276436],\n",
       "       [-0.01117388, -0.57925837,  0.78701097,  1.6226934 ],\n",
       "       [-0.98634915,  0.77046987, -1.27728011, -1.30948358],\n",
       "       [-0.98634915,  0.99542457, -1.21993869, -0.7763605 ],\n",
       "       [ 0.11072303,  0.32056046,  0.61498672,  0.82300877],\n",
       "       [-0.86445224, -1.25412249, -0.41715882, -0.10995664],\n",
       "       [ 1.32969211,  0.32056046,  1.13105949,  1.48941263],\n",
       "       [ 0.23261993, -0.80421307,  0.78701097,  0.55644722],\n",
       "       [ 0.35451684, -1.02916778,  1.07371807,  0.28988568],\n",
       "       [ 2.30486738, -0.12934896,  1.36042516,  1.48941263],\n",
       "       [-0.37686461, -1.25412249,  0.15625537,  0.15660491],\n",
       "       [-1.7177306 , -0.35430366, -1.33462153, -1.30948358],\n",
       "       [-1.83962751, -0.12934896, -1.50664578, -1.44276436],\n",
       "       [ 0.23261993, -1.9289866 ,  0.72966956,  0.42316645],\n",
       "       [ 1.69538284,  0.32056046,  1.30308374,  0.82300877],\n",
       "       [-1.47393679,  0.09560575, -1.27728011, -1.30948358],\n",
       "       [-0.86445224,  0.99542457, -1.33462153, -1.17620281],\n",
       "       [-1.7177306 , -0.12934896, -1.39196294, -1.30948358],\n",
       "       [ 0.59831066, -1.25412249,  0.67232814,  0.42316645],\n",
       "       [ 0.59831066,  0.77046987,  1.07371807,  1.6226934 ],\n",
       "       [-1.47393679,  0.77046987, -1.33462153, -1.17620281],\n",
       "       [ 1.2077952 , -0.12934896,  1.01637665,  1.22285108],\n",
       "       [ 0.59831066,  0.54551516,  1.30308374,  1.75597417],\n",
       "       [-1.35203988,  0.32056046, -1.39196294, -1.30948358],\n",
       "       [ 0.35451684, -0.35430366,  0.5576453 ,  0.28988568],\n",
       "       [ 0.84210448, -0.57925837,  0.50030388,  0.42316645],\n",
       "       [ 0.47641375, -0.57925837,  0.61498672,  0.82300877],\n",
       "       [ 1.45158902,  0.32056046,  0.5576453 ,  0.28988568],\n",
       "       [ 0.72020757,  0.32056046,  0.90169381,  1.48941263],\n",
       "       [-0.86445224,  1.67028869, -1.21993869, -1.30948358],\n",
       "       [ 1.32969211,  0.09560575,  0.95903523,  1.22285108],\n",
       "       [ 0.11072303, -0.12934896,  0.2709382 ,  0.42316645],\n",
       "       [ 0.84210448, -0.12934896,  0.84435239,  1.08957031],\n",
       "       [-0.13307079, -1.02916778, -0.13045173, -0.24323741],\n",
       "       [-0.74255534, -0.80421307,  0.09891395,  0.28988568],\n",
       "       [ 0.35451684, -0.12934896,  0.50030388,  0.28988568],\n",
       "       [-1.5958337 , -1.7040319 , -1.39196294, -1.17620281],\n",
       "       [ 0.96400139, -0.35430366,  0.50030388,  0.15660491],\n",
       "       [-0.37686461, -1.02916778,  0.38562104,  0.02332414],\n",
       "       [-0.62065843,  1.44533399, -1.27728011, -1.30948358],\n",
       "       [-0.2549677 , -0.12934896,  0.21359679,  0.15660491],\n",
       "       [ 1.81727975, -0.35430366,  1.475108  ,  0.82300877],\n",
       "       [ 1.08589829,  0.54551516,  1.13105949,  1.22285108],\n",
       "       [-0.86445224,  1.44533399, -1.27728011, -1.04292204],\n",
       "       [-1.10824606, -1.47907719, -0.24513457, -0.24323741],\n",
       "       [ 1.08589829,  0.54551516,  1.13105949,  1.75597417],\n",
       "       [ 1.69538284, -0.12934896,  1.18840091,  0.55644722],\n",
       "       [-1.10824606,  0.09560575, -1.27728011, -1.44276436],\n",
       "       [ 1.08589829,  0.09560575,  1.07371807,  1.6226934 ],\n",
       "       [-1.10824606, -0.12934896, -1.33462153, -1.30948358],\n",
       "       [ 1.32969211,  0.09560575,  0.67232814,  0.42316645],\n",
       "       [ 1.93917666, -0.57925837,  1.36042516,  0.95628954],\n",
       "       [ 0.59831066, -0.35430366,  1.07371807,  0.82300877],\n",
       "       [-0.13307079, -0.57925837,  0.21359679,  0.15660491],\n",
       "       [ 0.84210448, -0.12934896,  1.01637665,  0.82300877],\n",
       "       [ 0.59831066, -1.7040319 ,  0.38562104,  0.15660491],\n",
       "       [ 0.72020757, -0.35430366,  0.32827962,  0.15660491],\n",
       "       [-0.2549677 , -0.57925837,  0.67232814,  1.08957031],\n",
       "       [ 0.11072303, -0.12934896,  0.78701097,  0.82300877],\n",
       "       [-0.49876152,  0.77046987, -1.16259727, -1.30948358],\n",
       "       [ 0.35451684, -0.57925837,  0.15625537,  0.15660491],\n",
       "       [-1.10824606, -1.25412249,  0.44296246,  0.68972799],\n",
       "       [-0.01117388,  2.1201981 , -1.44930436, -1.30948358],\n",
       "       [-0.01117388, -1.02916778,  0.15625537,  0.02332414],\n",
       "       [ 1.57348593, -0.12934896,  1.24574233,  1.22285108]])"
      ]
     },
     "execution_count": 28,
     "metadata": {},
     "output_type": "execute_result"
    }
   ],
   "source": [
    "X_train"
   ]
  },
  {
   "cell_type": "code",
   "execution_count": 29,
   "metadata": {},
   "outputs": [],
   "source": [
    "#Defining and building the model:"
   ]
  },
  {
   "cell_type": "code",
   "execution_count": 30,
   "metadata": {},
   "outputs": [
    {
     "name": "stderr",
     "output_type": "stream",
     "text": [
      "Using TensorFlow backend.\n"
     ]
    }
   ],
   "source": [
    "import keras"
   ]
  },
  {
   "cell_type": "code",
   "execution_count": 31,
   "metadata": {},
   "outputs": [
    {
     "name": "stdout",
     "output_type": "stream",
     "text": [
      "(120, 4)\n",
      "(30, 4)\n",
      "(120, 3)\n",
      "(30, 3)\n"
     ]
    }
   ],
   "source": [
    "print(X_train.shape)\n",
    "print(X_test.shape)\n",
    "print(y_train.shape)\n",
    "print(y_test.shape)"
   ]
  },
  {
   "cell_type": "code",
   "execution_count": 40,
   "metadata": {},
   "outputs": [],
   "source": [
    "from keras.models import Sequential\n",
    "from keras.layers import Dense, Activation\n",
    "from keras.utils import np_utils"
   ]
  },
  {
   "cell_type": "code",
   "execution_count": 42,
   "metadata": {},
   "outputs": [],
   "source": [
    "model=Sequential()\n",
    "model.add(Dense(output_dim=100,input_dim=4))\n",
    "model.add(Activation(\"relu\"))\n",
    "model.add(Dense(output_dim=3))\n",
    "model.add(Activation(\"softmax\"))"
   ]
  },
  {
   "cell_type": "code",
   "execution_count": 44,
   "metadata": {},
   "outputs": [],
   "source": [
    "model.compile(loss='categorical_crossentropy',optimizer='sgd',metrics=['accuracy'])"
   ]
  },
  {
   "cell_type": "code",
   "execution_count": 59,
   "metadata": {},
   "outputs": [
    {
     "name": "stdout",
     "output_type": "stream",
     "text": [
      "Train on 120 samples, validate on 30 samples\n",
      "Epoch 1/400\n",
      "120/120 [==============================] - 0s 125us/step - loss: 0.0539 - accuracy: 0.9833 - val_loss: 0.0751 - val_accuracy: 0.9667\n",
      "Epoch 2/400\n",
      "120/120 [==============================] - 0s 117us/step - loss: 0.0539 - accuracy: 0.9833 - val_loss: 0.0751 - val_accuracy: 0.9667\n",
      "Epoch 3/400\n",
      "120/120 [==============================] - 0s 117us/step - loss: 0.0541 - accuracy: 0.9833 - val_loss: 0.0751 - val_accuracy: 0.9667\n",
      "Epoch 4/400\n",
      "120/120 [==============================] - 0s 108us/step - loss: 0.0539 - accuracy: 0.9833 - val_loss: 0.0751 - val_accuracy: 0.9667\n",
      "Epoch 5/400\n",
      "120/120 [==============================] - 0s 108us/step - loss: 0.0538 - accuracy: 0.9833 - val_loss: 0.0751 - val_accuracy: 0.9667\n",
      "Epoch 6/400\n",
      "120/120 [==============================] - 0s 117us/step - loss: 0.0540 - accuracy: 0.9833 - val_loss: 0.0751 - val_accuracy: 0.9667\n",
      "Epoch 7/400\n",
      "120/120 [==============================] - 0s 108us/step - loss: 0.0538 - accuracy: 0.9833 - val_loss: 0.0751 - val_accuracy: 0.9667\n",
      "Epoch 8/400\n",
      "120/120 [==============================] - 0s 175us/step - loss: 0.0540 - accuracy: 0.9833 - val_loss: 0.0751 - val_accuracy: 0.9667\n",
      "Epoch 9/400\n",
      "120/120 [==============================] - 0s 117us/step - loss: 0.0540 - accuracy: 0.9833 - val_loss: 0.0751 - val_accuracy: 0.9667\n",
      "Epoch 10/400\n",
      "120/120 [==============================] - 0s 117us/step - loss: 0.0538 - accuracy: 0.9833 - val_loss: 0.0751 - val_accuracy: 0.9667\n",
      "Epoch 11/400\n",
      "120/120 [==============================] - 0s 142us/step - loss: 0.0538 - accuracy: 0.9833 - val_loss: 0.0751 - val_accuracy: 0.9667\n",
      "Epoch 12/400\n",
      "120/120 [==============================] - 0s 117us/step - loss: 0.0538 - accuracy: 0.9833 - val_loss: 0.0751 - val_accuracy: 0.9667\n",
      "Epoch 13/400\n",
      "120/120 [==============================] - 0s 150us/step - loss: 0.0539 - accuracy: 0.9833 - val_loss: 0.0751 - val_accuracy: 0.9667\n",
      "Epoch 14/400\n",
      "120/120 [==============================] - 0s 117us/step - loss: 0.0538 - accuracy: 0.9833 - val_loss: 0.0751 - val_accuracy: 0.9667\n",
      "Epoch 15/400\n",
      "120/120 [==============================] - 0s 133us/step - loss: 0.0540 - accuracy: 0.9833 - val_loss: 0.0751 - val_accuracy: 0.9667\n",
      "Epoch 16/400\n",
      "120/120 [==============================] - 0s 133us/step - loss: 0.0538 - accuracy: 0.9833 - val_loss: 0.0751 - val_accuracy: 0.9667\n",
      "Epoch 17/400\n",
      "120/120 [==============================] - 0s 108us/step - loss: 0.0538 - accuracy: 0.9833 - val_loss: 0.0752 - val_accuracy: 0.9667\n",
      "Epoch 18/400\n",
      "120/120 [==============================] - 0s 250us/step - loss: 0.0538 - accuracy: 0.9833 - val_loss: 0.0752 - val_accuracy: 0.9667\n",
      "Epoch 19/400\n",
      "120/120 [==============================] - 0s 108us/step - loss: 0.0538 - accuracy: 0.9833 - val_loss: 0.0752 - val_accuracy: 0.9667\n",
      "Epoch 20/400\n",
      "120/120 [==============================] - 0s 117us/step - loss: 0.0541 - accuracy: 0.9833 - val_loss: 0.0752 - val_accuracy: 0.9667\n",
      "Epoch 21/400\n",
      "120/120 [==============================] - 0s 175us/step - loss: 0.0541 - accuracy: 0.9833 - val_loss: 0.0751 - val_accuracy: 0.9667\n",
      "Epoch 22/400\n",
      "120/120 [==============================] - 0s 133us/step - loss: 0.0537 - accuracy: 0.9833 - val_loss: 0.0751 - val_accuracy: 0.9667\n",
      "Epoch 23/400\n",
      "120/120 [==============================] - 0s 158us/step - loss: 0.0538 - accuracy: 0.9833 - val_loss: 0.0751 - val_accuracy: 0.9667\n",
      "Epoch 24/400\n",
      "120/120 [==============================] - 0s 117us/step - loss: 0.0537 - accuracy: 0.9833 - val_loss: 0.0751 - val_accuracy: 0.9667\n",
      "Epoch 25/400\n",
      "120/120 [==============================] - 0s 150us/step - loss: 0.0537 - accuracy: 0.9833 - val_loss: 0.0751 - val_accuracy: 0.9667\n",
      "Epoch 26/400\n",
      "120/120 [==============================] - 0s 125us/step - loss: 0.0537 - accuracy: 0.9833 - val_loss: 0.0751 - val_accuracy: 0.9667\n",
      "Epoch 27/400\n",
      "120/120 [==============================] - 0s 175us/step - loss: 0.0537 - accuracy: 0.9833 - val_loss: 0.0751 - val_accuracy: 0.9667\n",
      "Epoch 28/400\n",
      "120/120 [==============================] - 0s 108us/step - loss: 0.0537 - accuracy: 0.9833 - val_loss: 0.0751 - val_accuracy: 0.9667\n",
      "Epoch 29/400\n",
      "120/120 [==============================] - 0s 150us/step - loss: 0.0537 - accuracy: 0.9833 - val_loss: 0.0751 - val_accuracy: 0.9667\n",
      "Epoch 30/400\n",
      "120/120 [==============================] - 0s 100us/step - loss: 0.0538 - accuracy: 0.9833 - val_loss: 0.0751 - val_accuracy: 0.9667\n",
      "Epoch 31/400\n",
      "120/120 [==============================] - 0s 142us/step - loss: 0.0539 - accuracy: 0.9833 - val_loss: 0.0751 - val_accuracy: 0.9667\n",
      "Epoch 32/400\n",
      "120/120 [==============================] - 0s 117us/step - loss: 0.0538 - accuracy: 0.9833 - val_loss: 0.0751 - val_accuracy: 0.9667\n",
      "Epoch 33/400\n",
      "120/120 [==============================] - 0s 125us/step - loss: 0.0537 - accuracy: 0.9833 - val_loss: 0.0752 - val_accuracy: 0.9667\n",
      "Epoch 34/400\n",
      "120/120 [==============================] - 0s 167us/step - loss: 0.0537 - accuracy: 0.9833 - val_loss: 0.0752 - val_accuracy: 0.9667\n",
      "Epoch 35/400\n",
      "120/120 [==============================] - 0s 108us/step - loss: 0.0536 - accuracy: 0.9833 - val_loss: 0.0752 - val_accuracy: 0.9667\n",
      "Epoch 36/400\n",
      "120/120 [==============================] - 0s 150us/step - loss: 0.0538 - accuracy: 0.9833 - val_loss: 0.0752 - val_accuracy: 0.9667\n",
      "Epoch 37/400\n",
      "120/120 [==============================] - 0s 142us/step - loss: 0.0536 - accuracy: 0.9833 - val_loss: 0.0752 - val_accuracy: 0.9667\n",
      "Epoch 38/400\n",
      "120/120 [==============================] - 0s 167us/step - loss: 0.0536 - accuracy: 0.9833 - val_loss: 0.0752 - val_accuracy: 0.9667\n",
      "Epoch 39/400\n",
      "120/120 [==============================] - 0s 133us/step - loss: 0.0536 - accuracy: 0.9833 - val_loss: 0.0752 - val_accuracy: 0.9667\n",
      "Epoch 40/400\n",
      "120/120 [==============================] - 0s 125us/step - loss: 0.0536 - accuracy: 0.9833 - val_loss: 0.0752 - val_accuracy: 0.9667\n",
      "Epoch 41/400\n",
      "120/120 [==============================] - 0s 117us/step - loss: 0.0537 - accuracy: 0.9833 - val_loss: 0.0752 - val_accuracy: 0.9667\n",
      "Epoch 42/400\n",
      "120/120 [==============================] - 0s 117us/step - loss: 0.0537 - accuracy: 0.9833 - val_loss: 0.0752 - val_accuracy: 0.9667\n",
      "Epoch 43/400\n",
      "120/120 [==============================] - 0s 125us/step - loss: 0.0536 - accuracy: 0.9833 - val_loss: 0.0752 - val_accuracy: 0.9667\n",
      "Epoch 44/400\n",
      "120/120 [==============================] - 0s 117us/step - loss: 0.0537 - accuracy: 0.9833 - val_loss: 0.0752 - val_accuracy: 0.9667\n",
      "Epoch 45/400\n",
      "120/120 [==============================] - ETA: 0s - loss: 0.0952 - accuracy: 0.95 - 0s 125us/step - loss: 0.0536 - accuracy: 0.9833 - val_loss: 0.0752 - val_accuracy: 0.9667\n",
      "Epoch 46/400\n",
      "120/120 [==============================] - 0s 246us/step - loss: 0.0536 - accuracy: 0.9833 - val_loss: 0.0752 - val_accuracy: 0.9667\n",
      "Epoch 47/400\n",
      "120/120 [==============================] - 0s 133us/step - loss: 0.0537 - accuracy: 0.9833 - val_loss: 0.0752 - val_accuracy: 0.9667\n",
      "Epoch 48/400\n",
      "120/120 [==============================] - 0s 183us/step - loss: 0.0536 - accuracy: 0.9833 - val_loss: 0.0752 - val_accuracy: 0.9667\n",
      "Epoch 49/400\n",
      "120/120 [==============================] - 0s 158us/step - loss: 0.0537 - accuracy: 0.9833 - val_loss: 0.0752 - val_accuracy: 0.9667\n",
      "Epoch 50/400\n",
      "120/120 [==============================] - 0s 133us/step - loss: 0.0539 - accuracy: 0.9833 - val_loss: 0.0753 - val_accuracy: 0.9667\n",
      "Epoch 51/400\n",
      "120/120 [==============================] - 0s 142us/step - loss: 0.0537 - accuracy: 0.9833 - val_loss: 0.0752 - val_accuracy: 0.9667\n",
      "Epoch 52/400\n",
      "120/120 [==============================] - 0s 217us/step - loss: 0.0536 - accuracy: 0.9833 - val_loss: 0.0753 - val_accuracy: 0.9667\n",
      "Epoch 53/400\n",
      "120/120 [==============================] - 0s 204us/step - loss: 0.0535 - accuracy: 0.9833 - val_loss: 0.0753 - val_accuracy: 0.9667\n",
      "Epoch 54/400\n",
      "120/120 [==============================] - 0s 208us/step - loss: 0.0535 - accuracy: 0.9833 - val_loss: 0.0753 - val_accuracy: 0.9667\n",
      "Epoch 55/400\n",
      "120/120 [==============================] - 0s 133us/step - loss: 0.0536 - accuracy: 0.9833 - val_loss: 0.0753 - val_accuracy: 0.9667\n",
      "Epoch 56/400\n"
     ]
    },
    {
     "name": "stdout",
     "output_type": "stream",
     "text": [
      "120/120 [==============================] - 0s 133us/step - loss: 0.0536 - accuracy: 0.9833 - val_loss: 0.0753 - val_accuracy: 0.9667\n",
      "Epoch 57/400\n",
      "120/120 [==============================] - 0s 192us/step - loss: 0.0535 - accuracy: 0.9833 - val_loss: 0.0753 - val_accuracy: 0.9667\n",
      "Epoch 58/400\n",
      "120/120 [==============================] - 0s 133us/step - loss: 0.0536 - accuracy: 0.9833 - val_loss: 0.0753 - val_accuracy: 0.9667\n",
      "Epoch 59/400\n",
      "120/120 [==============================] - 0s 133us/step - loss: 0.0535 - accuracy: 0.9833 - val_loss: 0.0753 - val_accuracy: 0.9667\n",
      "Epoch 60/400\n",
      "120/120 [==============================] - 0s 125us/step - loss: 0.0535 - accuracy: 0.9833 - val_loss: 0.0753 - val_accuracy: 0.9667\n",
      "Epoch 61/400\n",
      "120/120 [==============================] - 0s 133us/step - loss: 0.0536 - accuracy: 0.9833 - val_loss: 0.0753 - val_accuracy: 0.9667\n",
      "Epoch 62/400\n",
      "120/120 [==============================] - 0s 175us/step - loss: 0.0536 - accuracy: 0.9833 - val_loss: 0.0753 - val_accuracy: 0.9667\n",
      "Epoch 63/400\n",
      "120/120 [==============================] - 0s 150us/step - loss: 0.0536 - accuracy: 0.9833 - val_loss: 0.0753 - val_accuracy: 0.9667\n",
      "Epoch 64/400\n",
      "120/120 [==============================] - 0s 133us/step - loss: 0.0535 - accuracy: 0.9833 - val_loss: 0.0753 - val_accuracy: 0.9667\n",
      "Epoch 65/400\n",
      "120/120 [==============================] - 0s 108us/step - loss: 0.0535 - accuracy: 0.9833 - val_loss: 0.0753 - val_accuracy: 0.9667\n",
      "Epoch 66/400\n",
      "120/120 [==============================] - 0s 150us/step - loss: 0.0534 - accuracy: 0.9833 - val_loss: 0.0753 - val_accuracy: 0.9667\n",
      "Epoch 67/400\n",
      "120/120 [==============================] - 0s 133us/step - loss: 0.0534 - accuracy: 0.9833 - val_loss: 0.0753 - val_accuracy: 0.9667\n",
      "Epoch 68/400\n",
      "120/120 [==============================] - 0s 158us/step - loss: 0.0535 - accuracy: 0.9833 - val_loss: 0.0753 - val_accuracy: 0.9667\n",
      "Epoch 69/400\n",
      "120/120 [==============================] - 0s 192us/step - loss: 0.0535 - accuracy: 0.9833 - val_loss: 0.0753 - val_accuracy: 0.9667\n",
      "Epoch 70/400\n",
      "120/120 [==============================] - 0s 208us/step - loss: 0.0535 - accuracy: 0.9833 - val_loss: 0.0753 - val_accuracy: 0.9667\n",
      "Epoch 71/400\n",
      "120/120 [==============================] - 0s 142us/step - loss: 0.0536 - accuracy: 0.9833 - val_loss: 0.0754 - val_accuracy: 0.9667\n",
      "Epoch 72/400\n",
      "120/120 [==============================] - 0s 125us/step - loss: 0.0535 - accuracy: 0.9833 - val_loss: 0.0753 - val_accuracy: 0.9667\n",
      "Epoch 73/400\n",
      "120/120 [==============================] - 0s 142us/step - loss: 0.0534 - accuracy: 0.9833 - val_loss: 0.0754 - val_accuracy: 0.9667\n",
      "Epoch 74/400\n",
      "120/120 [==============================] - 0s 192us/step - loss: 0.0534 - accuracy: 0.9833 - val_loss: 0.0753 - val_accuracy: 0.9667\n",
      "Epoch 75/400\n",
      "120/120 [==============================] - 0s 150us/step - loss: 0.0534 - accuracy: 0.9833 - val_loss: 0.0754 - val_accuracy: 0.9667\n",
      "Epoch 76/400\n",
      "120/120 [==============================] - 0s 142us/step - loss: 0.0534 - accuracy: 0.9833 - val_loss: 0.0754 - val_accuracy: 0.9667\n",
      "Epoch 77/400\n",
      "120/120 [==============================] - 0s 125us/step - loss: 0.0534 - accuracy: 0.9833 - val_loss: 0.0754 - val_accuracy: 0.9667\n",
      "Epoch 78/400\n",
      "120/120 [==============================] - 0s 117us/step - loss: 0.0535 - accuracy: 0.9833 - val_loss: 0.0754 - val_accuracy: 0.9667\n",
      "Epoch 79/400\n",
      "120/120 [==============================] - 0s 158us/step - loss: 0.0534 - accuracy: 0.9833 - val_loss: 0.0754 - val_accuracy: 0.9667\n",
      "Epoch 80/400\n",
      "120/120 [==============================] - 0s 133us/step - loss: 0.0534 - accuracy: 0.9833 - val_loss: 0.0754 - val_accuracy: 0.9667\n",
      "Epoch 81/400\n",
      "120/120 [==============================] - 0s 125us/step - loss: 0.0535 - accuracy: 0.9833 - val_loss: 0.0754 - val_accuracy: 0.9667\n",
      "Epoch 82/400\n",
      "120/120 [==============================] - 0s 158us/step - loss: 0.0534 - accuracy: 0.9833 - val_loss: 0.0754 - val_accuracy: 0.9667\n",
      "Epoch 83/400\n",
      "120/120 [==============================] - 0s 117us/step - loss: 0.0534 - accuracy: 0.9833 - val_loss: 0.0754 - val_accuracy: 0.9667\n",
      "Epoch 84/400\n",
      "120/120 [==============================] - 0s 117us/step - loss: 0.0533 - accuracy: 0.9833 - val_loss: 0.0754 - val_accuracy: 0.9667\n",
      "Epoch 85/400\n",
      "120/120 [==============================] - 0s 175us/step - loss: 0.0533 - accuracy: 0.9833 - val_loss: 0.0754 - val_accuracy: 0.9667\n",
      "Epoch 86/400\n",
      "120/120 [==============================] - 0s 117us/step - loss: 0.0533 - accuracy: 0.9833 - val_loss: 0.0754 - val_accuracy: 0.9667\n",
      "Epoch 87/400\n",
      "120/120 [==============================] - 0s 108us/step - loss: 0.0534 - accuracy: 0.9833 - val_loss: 0.0754 - val_accuracy: 0.9667\n",
      "Epoch 88/400\n",
      "120/120 [==============================] - 0s 133us/step - loss: 0.0533 - accuracy: 0.9833 - val_loss: 0.0754 - val_accuracy: 0.9667\n",
      "Epoch 89/400\n",
      "120/120 [==============================] - 0s 125us/step - loss: 0.0537 - accuracy: 0.9833 - val_loss: 0.0755 - val_accuracy: 0.9667\n",
      "Epoch 90/400\n",
      "120/120 [==============================] - 0s 117us/step - loss: 0.0533 - accuracy: 0.9833 - val_loss: 0.0755 - val_accuracy: 0.9667\n",
      "Epoch 91/400\n",
      "120/120 [==============================] - 0s 125us/step - loss: 0.0534 - accuracy: 0.9833 - val_loss: 0.0755 - val_accuracy: 0.9667\n",
      "Epoch 92/400\n",
      "120/120 [==============================] - 0s 117us/step - loss: 0.0533 - accuracy: 0.9833 - val_loss: 0.0755 - val_accuracy: 0.9667\n",
      "Epoch 93/400\n",
      "120/120 [==============================] - 0s 117us/step - loss: 0.0535 - accuracy: 0.9833 - val_loss: 0.0755 - val_accuracy: 0.9667\n",
      "Epoch 94/400\n",
      "120/120 [==============================] - 0s 125us/step - loss: 0.0535 - accuracy: 0.9833 - val_loss: 0.0754 - val_accuracy: 0.9667\n",
      "Epoch 95/400\n",
      "120/120 [==============================] - 0s 117us/step - loss: 0.0533 - accuracy: 0.9833 - val_loss: 0.0755 - val_accuracy: 0.9667\n",
      "Epoch 96/400\n",
      "120/120 [==============================] - 0s 108us/step - loss: 0.0534 - accuracy: 0.9833 - val_loss: 0.0755 - val_accuracy: 0.9667\n",
      "Epoch 97/400\n",
      "120/120 [==============================] - 0s 117us/step - loss: 0.0533 - accuracy: 0.9833 - val_loss: 0.0755 - val_accuracy: 0.9667\n",
      "Epoch 98/400\n",
      "120/120 [==============================] - 0s 142us/step - loss: 0.0533 - accuracy: 0.9833 - val_loss: 0.0755 - val_accuracy: 0.9667\n",
      "Epoch 99/400\n",
      "120/120 [==============================] - 0s 117us/step - loss: 0.0534 - accuracy: 0.9833 - val_loss: 0.0755 - val_accuracy: 0.9667\n",
      "Epoch 100/400\n",
      "120/120 [==============================] - 0s 100us/step - loss: 0.0532 - accuracy: 0.9833 - val_loss: 0.0755 - val_accuracy: 0.9667\n",
      "Epoch 101/400\n",
      "120/120 [==============================] - 0s 117us/step - loss: 0.0533 - accuracy: 0.9833 - val_loss: 0.0755 - val_accuracy: 0.9667\n",
      "Epoch 102/400\n",
      "120/120 [==============================] - 0s 117us/step - loss: 0.0533 - accuracy: 0.9833 - val_loss: 0.0755 - val_accuracy: 0.9667\n",
      "Epoch 103/400\n",
      "120/120 [==============================] - 0s 117us/step - loss: 0.0532 - accuracy: 0.9833 - val_loss: 0.0755 - val_accuracy: 0.9667\n",
      "Epoch 104/400\n",
      "120/120 [==============================] - 0s 117us/step - loss: 0.0533 - accuracy: 0.9833 - val_loss: 0.0755 - val_accuracy: 0.9667\n",
      "Epoch 105/400\n",
      "120/120 [==============================] - 0s 117us/step - loss: 0.0533 - accuracy: 0.9833 - val_loss: 0.0755 - val_accuracy: 0.9667\n",
      "Epoch 106/400\n",
      "120/120 [==============================] - 0s 133us/step - loss: 0.0532 - accuracy: 0.9833 - val_loss: 0.0755 - val_accuracy: 0.9667\n",
      "Epoch 107/400\n",
      "120/120 [==============================] - 0s 200us/step - loss: 0.0532 - accuracy: 0.9833 - val_loss: 0.0755 - val_accuracy: 0.9667\n",
      "Epoch 108/400\n",
      "120/120 [==============================] - 0s 117us/step - loss: 0.0533 - accuracy: 0.9833 - val_loss: 0.0755 - val_accuracy: 0.9667\n",
      "Epoch 109/400\n",
      "120/120 [==============================] - 0s 150us/step - loss: 0.0533 - accuracy: 0.9833 - val_loss: 0.0755 - val_accuracy: 0.9667\n",
      "Epoch 110/400\n",
      "120/120 [==============================] - 0s 117us/step - loss: 0.0534 - accuracy: 0.9833 - val_loss: 0.0756 - val_accuracy: 0.9667\n",
      "Epoch 111/400\n",
      "120/120 [==============================] - 0s 117us/step - loss: 0.0532 - accuracy: 0.9833 - val_loss: 0.0756 - val_accuracy: 0.9667\n",
      "Epoch 112/400\n"
     ]
    },
    {
     "name": "stdout",
     "output_type": "stream",
     "text": [
      "120/120 [==============================] - 0s 275us/step - loss: 0.0533 - accuracy: 0.9833 - val_loss: 0.0756 - val_accuracy: 0.9667\n",
      "Epoch 113/400\n",
      "120/120 [==============================] - 0s 117us/step - loss: 0.0532 - accuracy: 0.9833 - val_loss: 0.0756 - val_accuracy: 0.9667\n",
      "Epoch 114/400\n",
      "120/120 [==============================] - 0s 133us/step - loss: 0.0532 - accuracy: 0.9833 - val_loss: 0.0756 - val_accuracy: 0.9667\n",
      "Epoch 115/400\n",
      "120/120 [==============================] - 0s 217us/step - loss: 0.0533 - accuracy: 0.9833 - val_loss: 0.0756 - val_accuracy: 0.9667\n",
      "Epoch 116/400\n",
      "120/120 [==============================] - 0s 150us/step - loss: 0.0532 - accuracy: 0.9833 - val_loss: 0.0756 - val_accuracy: 0.9667\n",
      "Epoch 117/400\n",
      "120/120 [==============================] - 0s 183us/step - loss: 0.0531 - accuracy: 0.9833 - val_loss: 0.0756 - val_accuracy: 0.9667\n",
      "Epoch 118/400\n",
      "120/120 [==============================] - 0s 133us/step - loss: 0.0532 - accuracy: 0.9833 - val_loss: 0.0756 - val_accuracy: 0.9667\n",
      "Epoch 119/400\n",
      "120/120 [==============================] - 0s 125us/step - loss: 0.0532 - accuracy: 0.9833 - val_loss: 0.0756 - val_accuracy: 0.9667\n",
      "Epoch 120/400\n",
      "120/120 [==============================] - 0s 225us/step - loss: 0.0532 - accuracy: 0.9833 - val_loss: 0.0756 - val_accuracy: 0.9667\n",
      "Epoch 121/400\n",
      "120/120 [==============================] - 0s 117us/step - loss: 0.0532 - accuracy: 0.9833 - val_loss: 0.0756 - val_accuracy: 0.9667\n",
      "Epoch 122/400\n",
      "120/120 [==============================] - 0s 117us/step - loss: 0.0533 - accuracy: 0.9833 - val_loss: 0.0756 - val_accuracy: 0.9667\n",
      "Epoch 123/400\n",
      "120/120 [==============================] - 0s 125us/step - loss: 0.0532 - accuracy: 0.9833 - val_loss: 0.0756 - val_accuracy: 0.9667\n",
      "Epoch 124/400\n",
      "120/120 [==============================] - 0s 108us/step - loss: 0.0533 - accuracy: 0.9833 - val_loss: 0.0755 - val_accuracy: 0.9667\n",
      "Epoch 125/400\n",
      "120/120 [==============================] - 0s 108us/step - loss: 0.0531 - accuracy: 0.9833 - val_loss: 0.0756 - val_accuracy: 0.9667\n",
      "Epoch 126/400\n",
      "120/120 [==============================] - 0s 133us/step - loss: 0.0532 - accuracy: 0.9833 - val_loss: 0.0756 - val_accuracy: 0.9667\n",
      "Epoch 127/400\n",
      "120/120 [==============================] - 0s 108us/step - loss: 0.0532 - accuracy: 0.9833 - val_loss: 0.0756 - val_accuracy: 0.9667\n",
      "Epoch 128/400\n",
      "120/120 [==============================] - 0s 108us/step - loss: 0.0533 - accuracy: 0.9833 - val_loss: 0.0756 - val_accuracy: 0.9667\n",
      "Epoch 129/400\n",
      "120/120 [==============================] - 0s 108us/step - loss: 0.0532 - accuracy: 0.9833 - val_loss: 0.0756 - val_accuracy: 0.9667\n",
      "Epoch 130/400\n",
      "120/120 [==============================] - 0s 125us/step - loss: 0.0531 - accuracy: 0.9833 - val_loss: 0.0756 - val_accuracy: 0.9667\n",
      "Epoch 131/400\n",
      "120/120 [==============================] - 0s 108us/step - loss: 0.0532 - accuracy: 0.9833 - val_loss: 0.0756 - val_accuracy: 0.9667\n",
      "Epoch 132/400\n",
      "120/120 [==============================] - 0s 134us/step - loss: 0.0532 - accuracy: 0.9833 - val_loss: 0.0756 - val_accuracy: 0.9667\n",
      "Epoch 133/400\n",
      "120/120 [==============================] - 0s 117us/step - loss: 0.0531 - accuracy: 0.9833 - val_loss: 0.0756 - val_accuracy: 0.9667\n",
      "Epoch 134/400\n",
      "120/120 [==============================] - 0s 100us/step - loss: 0.0531 - accuracy: 0.9833 - val_loss: 0.0756 - val_accuracy: 0.9667\n",
      "Epoch 135/400\n",
      "120/120 [==============================] - 0s 100us/step - loss: 0.0532 - accuracy: 0.9833 - val_loss: 0.0756 - val_accuracy: 0.9667\n",
      "Epoch 136/400\n",
      "120/120 [==============================] - 0s 100us/step - loss: 0.0531 - accuracy: 0.9833 - val_loss: 0.0756 - val_accuracy: 0.9667\n",
      "Epoch 137/400\n",
      "120/120 [==============================] - 0s 158us/step - loss: 0.0531 - accuracy: 0.9833 - val_loss: 0.0756 - val_accuracy: 0.9667\n",
      "Epoch 138/400\n",
      "120/120 [==============================] - 0s 133us/step - loss: 0.0531 - accuracy: 0.9833 - val_loss: 0.0756 - val_accuracy: 0.9667\n",
      "Epoch 139/400\n",
      "120/120 [==============================] - 0s 142us/step - loss: 0.0530 - accuracy: 0.9833 - val_loss: 0.0756 - val_accuracy: 0.9667\n",
      "Epoch 140/400\n",
      "120/120 [==============================] - 0s 117us/step - loss: 0.0531 - accuracy: 0.9833 - val_loss: 0.0756 - val_accuracy: 0.9667\n",
      "Epoch 141/400\n",
      "120/120 [==============================] - 0s 100us/step - loss: 0.0532 - accuracy: 0.9833 - val_loss: 0.0756 - val_accuracy: 0.9667\n",
      "Epoch 142/400\n",
      "120/120 [==============================] - 0s 117us/step - loss: 0.0530 - accuracy: 0.9833 - val_loss: 0.0757 - val_accuracy: 0.9667\n",
      "Epoch 143/400\n",
      "120/120 [==============================] - 0s 108us/step - loss: 0.0530 - accuracy: 0.9833 - val_loss: 0.0757 - val_accuracy: 0.9667\n",
      "Epoch 144/400\n",
      "120/120 [==============================] - 0s 150us/step - loss: 0.0530 - accuracy: 0.9833 - val_loss: 0.0757 - val_accuracy: 0.9667\n",
      "Epoch 145/400\n",
      "120/120 [==============================] - 0s 117us/step - loss: 0.0532 - accuracy: 0.9833 - val_loss: 0.0757 - val_accuracy: 0.9667\n",
      "Epoch 146/400\n",
      "120/120 [==============================] - 0s 108us/step - loss: 0.0530 - accuracy: 0.9833 - val_loss: 0.0757 - val_accuracy: 0.9667\n",
      "Epoch 147/400\n",
      "120/120 [==============================] - 0s 125us/step - loss: 0.0530 - accuracy: 0.9833 - val_loss: 0.0757 - val_accuracy: 0.9667\n",
      "Epoch 148/400\n",
      "120/120 [==============================] - 0s 117us/step - loss: 0.0530 - accuracy: 0.9833 - val_loss: 0.0757 - val_accuracy: 0.9667\n",
      "Epoch 149/400\n",
      "120/120 [==============================] - 0s 108us/step - loss: 0.0531 - accuracy: 0.9833 - val_loss: 0.0757 - val_accuracy: 0.9667\n",
      "Epoch 150/400\n",
      "120/120 [==============================] - 0s 150us/step - loss: 0.0530 - accuracy: 0.9833 - val_loss: 0.0757 - val_accuracy: 0.9667\n",
      "Epoch 151/400\n",
      "120/120 [==============================] - 0s 108us/step - loss: 0.0530 - accuracy: 0.9833 - val_loss: 0.0757 - val_accuracy: 0.9667\n",
      "Epoch 152/400\n",
      "120/120 [==============================] - 0s 142us/step - loss: 0.0531 - accuracy: 0.9833 - val_loss: 0.0757 - val_accuracy: 0.9667\n",
      "Epoch 153/400\n",
      "120/120 [==============================] - 0s 167us/step - loss: 0.0530 - accuracy: 0.9833 - val_loss: 0.0757 - val_accuracy: 0.9667\n",
      "Epoch 154/400\n",
      "120/120 [==============================] - 0s 117us/step - loss: 0.0530 - accuracy: 0.9833 - val_loss: 0.0757 - val_accuracy: 0.9667\n",
      "Epoch 155/400\n",
      "120/120 [==============================] - 0s 142us/step - loss: 0.0530 - accuracy: 0.9833 - val_loss: 0.0756 - val_accuracy: 0.9667\n",
      "Epoch 156/400\n",
      "120/120 [==============================] - 0s 125us/step - loss: 0.0529 - accuracy: 0.9833 - val_loss: 0.0757 - val_accuracy: 0.9667\n",
      "Epoch 157/400\n",
      "120/120 [==============================] - 0s 117us/step - loss: 0.0532 - accuracy: 0.9833 - val_loss: 0.0757 - val_accuracy: 0.9667\n",
      "Epoch 158/400\n",
      "120/120 [==============================] - 0s 125us/step - loss: 0.0529 - accuracy: 0.9833 - val_loss: 0.0757 - val_accuracy: 0.9667\n",
      "Epoch 159/400\n",
      "120/120 [==============================] - 0s 150us/step - loss: 0.0530 - accuracy: 0.9833 - val_loss: 0.0757 - val_accuracy: 0.9667\n",
      "Epoch 160/400\n",
      "120/120 [==============================] - 0s 150us/step - loss: 0.0531 - accuracy: 0.9833 - val_loss: 0.0757 - val_accuracy: 0.9667\n",
      "Epoch 161/400\n",
      "120/120 [==============================] - 0s 175us/step - loss: 0.0529 - accuracy: 0.9833 - val_loss: 0.0757 - val_accuracy: 0.9667\n",
      "Epoch 162/400\n",
      "120/120 [==============================] - 0s 500us/step - loss: 0.0531 - accuracy: 0.9833 - val_loss: 0.0757 - val_accuracy: 0.9667\n",
      "Epoch 163/400\n",
      "120/120 [==============================] - 0s 175us/step - loss: 0.0529 - accuracy: 0.9833 - val_loss: 0.0757 - val_accuracy: 0.9667\n",
      "Epoch 164/400\n",
      "120/120 [==============================] - 0s 192us/step - loss: 0.0529 - accuracy: 0.9833 - val_loss: 0.0757 - val_accuracy: 0.9667\n",
      "Epoch 165/400\n",
      "120/120 [==============================] - 0s 117us/step - loss: 0.0532 - accuracy: 0.9833 - val_loss: 0.0757 - val_accuracy: 0.9667\n",
      "Epoch 166/400\n",
      "120/120 [==============================] - 0s 183us/step - loss: 0.0532 - accuracy: 0.9833 - val_loss: 0.0757 - val_accuracy: 0.9667\n",
      "Epoch 167/400\n",
      "120/120 [==============================] - 0s 125us/step - loss: 0.0529 - accuracy: 0.9833 - val_loss: 0.0757 - val_accuracy: 0.9667\n"
     ]
    },
    {
     "name": "stdout",
     "output_type": "stream",
     "text": [
      "Epoch 168/400\n",
      "120/120 [==============================] - 0s 142us/step - loss: 0.0530 - accuracy: 0.9833 - val_loss: 0.0757 - val_accuracy: 0.9667\n",
      "Epoch 169/400\n",
      "120/120 [==============================] - 0s 158us/step - loss: 0.0530 - accuracy: 0.9833 - val_loss: 0.0757 - val_accuracy: 0.9667\n",
      "Epoch 170/400\n",
      "120/120 [==============================] - 0s 133us/step - loss: 0.0530 - accuracy: 0.9833 - val_loss: 0.0757 - val_accuracy: 0.9667\n",
      "Epoch 171/400\n",
      "120/120 [==============================] - 0s 125us/step - loss: 0.0529 - accuracy: 0.9833 - val_loss: 0.0757 - val_accuracy: 0.9667\n",
      "Epoch 172/400\n",
      "120/120 [==============================] - 0s 133us/step - loss: 0.0529 - accuracy: 0.9833 - val_loss: 0.0757 - val_accuracy: 0.9667\n",
      "Epoch 173/400\n",
      "120/120 [==============================] - 0s 117us/step - loss: 0.0530 - accuracy: 0.9833 - val_loss: 0.0757 - val_accuracy: 0.9667\n",
      "Epoch 174/400\n",
      "120/120 [==============================] - 0s 125us/step - loss: 0.0528 - accuracy: 0.9833 - val_loss: 0.0757 - val_accuracy: 0.9667\n",
      "Epoch 175/400\n",
      "120/120 [==============================] - 0s 167us/step - loss: 0.0528 - accuracy: 0.9833 - val_loss: 0.0757 - val_accuracy: 0.9667\n",
      "Epoch 176/400\n",
      "120/120 [==============================] - 0s 108us/step - loss: 0.0529 - accuracy: 0.9833 - val_loss: 0.0757 - val_accuracy: 0.9667\n",
      "Epoch 177/400\n",
      "120/120 [==============================] - 0s 121us/step - loss: 0.0528 - accuracy: 0.9833 - val_loss: 0.0757 - val_accuracy: 0.9667\n",
      "Epoch 178/400\n",
      "120/120 [==============================] - 0s 117us/step - loss: 0.0528 - accuracy: 0.9833 - val_loss: 0.0757 - val_accuracy: 0.9667\n",
      "Epoch 179/400\n",
      "120/120 [==============================] - 0s 117us/step - loss: 0.0528 - accuracy: 0.9833 - val_loss: 0.0757 - val_accuracy: 0.9667\n",
      "Epoch 180/400\n",
      "120/120 [==============================] - 0s 192us/step - loss: 0.0530 - accuracy: 0.9833 - val_loss: 0.0757 - val_accuracy: 0.9667\n",
      "Epoch 181/400\n",
      "120/120 [==============================] - 0s 108us/step - loss: 0.0529 - accuracy: 0.9833 - val_loss: 0.0757 - val_accuracy: 0.9667\n",
      "Epoch 182/400\n",
      "120/120 [==============================] - 0s 133us/step - loss: 0.0528 - accuracy: 0.9833 - val_loss: 0.0757 - val_accuracy: 0.9667\n",
      "Epoch 183/400\n",
      "120/120 [==============================] - 0s 125us/step - loss: 0.0528 - accuracy: 0.9833 - val_loss: 0.0757 - val_accuracy: 0.9667\n",
      "Epoch 184/400\n",
      "120/120 [==============================] - ETA: 0s - loss: 0.0294 - accuracy: 1.00 - 0s 117us/step - loss: 0.0528 - accuracy: 0.9833 - val_loss: 0.0757 - val_accuracy: 0.9667\n",
      "Epoch 185/400\n",
      "120/120 [==============================] - 0s 117us/step - loss: 0.0528 - accuracy: 0.9833 - val_loss: 0.0757 - val_accuracy: 0.9667\n",
      "Epoch 186/400\n",
      "120/120 [==============================] - 0s 150us/step - loss: 0.0528 - accuracy: 0.9833 - val_loss: 0.0757 - val_accuracy: 0.9667\n",
      "Epoch 187/400\n",
      "120/120 [==============================] - 0s 117us/step - loss: 0.0528 - accuracy: 0.9833 - val_loss: 0.0757 - val_accuracy: 0.9667\n",
      "Epoch 188/400\n",
      "120/120 [==============================] - 0s 108us/step - loss: 0.0528 - accuracy: 0.9833 - val_loss: 0.0757 - val_accuracy: 0.9667\n",
      "Epoch 189/400\n",
      "120/120 [==============================] - 0s 125us/step - loss: 0.0528 - accuracy: 0.9833 - val_loss: 0.0757 - val_accuracy: 0.9667\n",
      "Epoch 190/400\n",
      "120/120 [==============================] - 0s 133us/step - loss: 0.0528 - accuracy: 0.9833 - val_loss: 0.0758 - val_accuracy: 0.9667\n",
      "Epoch 191/400\n",
      "120/120 [==============================] - 0s 108us/step - loss: 0.0527 - accuracy: 0.9833 - val_loss: 0.0758 - val_accuracy: 0.9667\n",
      "Epoch 192/400\n",
      "120/120 [==============================] - 0s 175us/step - loss: 0.0527 - accuracy: 0.9833 - val_loss: 0.0758 - val_accuracy: 0.9667\n",
      "Epoch 193/400\n",
      "120/120 [==============================] - 0s 125us/step - loss: 0.0527 - accuracy: 0.9833 - val_loss: 0.0758 - val_accuracy: 0.9667\n",
      "Epoch 194/400\n",
      "120/120 [==============================] - 0s 108us/step - loss: 0.0530 - accuracy: 0.9833 - val_loss: 0.0757 - val_accuracy: 0.9667\n",
      "Epoch 195/400\n",
      "120/120 [==============================] - 0s 142us/step - loss: 0.0527 - accuracy: 0.9833 - val_loss: 0.0757 - val_accuracy: 0.9667\n",
      "Epoch 196/400\n",
      "120/120 [==============================] - 0s 133us/step - loss: 0.0528 - accuracy: 0.9833 - val_loss: 0.0758 - val_accuracy: 0.9667\n",
      "Epoch 197/400\n",
      "120/120 [==============================] - 0s 133us/step - loss: 0.0527 - accuracy: 0.9833 - val_loss: 0.0758 - val_accuracy: 0.9667\n",
      "Epoch 198/400\n",
      "120/120 [==============================] - 0s 108us/step - loss: 0.0527 - accuracy: 0.9833 - val_loss: 0.0758 - val_accuracy: 0.9667\n",
      "Epoch 199/400\n",
      "120/120 [==============================] - 0s 125us/step - loss: 0.0527 - accuracy: 0.9833 - val_loss: 0.0758 - val_accuracy: 0.9667\n",
      "Epoch 200/400\n",
      "120/120 [==============================] - 0s 100us/step - loss: 0.0527 - accuracy: 0.9833 - val_loss: 0.0758 - val_accuracy: 0.9667\n",
      "Epoch 201/400\n",
      "120/120 [==============================] - 0s 125us/step - loss: 0.0527 - accuracy: 0.9833 - val_loss: 0.0758 - val_accuracy: 0.9667\n",
      "Epoch 202/400\n",
      "120/120 [==============================] - 0s 125us/step - loss: 0.0527 - accuracy: 0.9833 - val_loss: 0.0758 - val_accuracy: 0.9667\n",
      "Epoch 203/400\n",
      "120/120 [==============================] - 0s 108us/step - loss: 0.0528 - accuracy: 0.9833 - val_loss: 0.0758 - val_accuracy: 0.9667\n",
      "Epoch 204/400\n",
      "120/120 [==============================] - 0s 133us/step - loss: 0.0527 - accuracy: 0.9833 - val_loss: 0.0758 - val_accuracy: 0.9667\n",
      "Epoch 205/400\n",
      "120/120 [==============================] - 0s 117us/step - loss: 0.0527 - accuracy: 0.9833 - val_loss: 0.0758 - val_accuracy: 0.9667\n",
      "Epoch 206/400\n",
      "120/120 [==============================] - 0s 167us/step - loss: 0.0527 - accuracy: 0.9833 - val_loss: 0.0758 - val_accuracy: 0.9667\n",
      "Epoch 207/400\n",
      "120/120 [==============================] - 0s 125us/step - loss: 0.0527 - accuracy: 0.9833 - val_loss: 0.0758 - val_accuracy: 0.9667\n",
      "Epoch 208/400\n",
      "120/120 [==============================] - 0s 108us/step - loss: 0.0527 - accuracy: 0.9833 - val_loss: 0.0758 - val_accuracy: 0.9667\n",
      "Epoch 209/400\n",
      "120/120 [==============================] - 0s 158us/step - loss: 0.0527 - accuracy: 0.9833 - val_loss: 0.0758 - val_accuracy: 0.9667\n",
      "Epoch 210/400\n",
      "120/120 [==============================] - 0s 167us/step - loss: 0.0526 - accuracy: 0.9833 - val_loss: 0.0758 - val_accuracy: 0.9667\n",
      "Epoch 211/400\n",
      "120/120 [==============================] - 0s 108us/step - loss: 0.0527 - accuracy: 0.9833 - val_loss: 0.0758 - val_accuracy: 0.9667\n",
      "Epoch 212/400\n",
      "120/120 [==============================] - 0s 142us/step - loss: 0.0526 - accuracy: 0.9833 - val_loss: 0.0758 - val_accuracy: 0.9667\n",
      "Epoch 213/400\n",
      "120/120 [==============================] - 0s 150us/step - loss: 0.0526 - accuracy: 0.9833 - val_loss: 0.0758 - val_accuracy: 0.9667\n",
      "Epoch 214/400\n",
      "120/120 [==============================] - 0s 233us/step - loss: 0.0526 - accuracy: 0.9833 - val_loss: 0.0758 - val_accuracy: 0.9667\n",
      "Epoch 215/400\n",
      "120/120 [==============================] - 0s 150us/step - loss: 0.0526 - accuracy: 0.9833 - val_loss: 0.0758 - val_accuracy: 0.9667\n",
      "Epoch 216/400\n",
      "120/120 [==============================] - 0s 133us/step - loss: 0.0526 - accuracy: 0.9833 - val_loss: 0.0758 - val_accuracy: 0.9667\n",
      "Epoch 217/400\n",
      "120/120 [==============================] - 0s 125us/step - loss: 0.0527 - accuracy: 0.9833 - val_loss: 0.0758 - val_accuracy: 0.9667\n",
      "Epoch 218/400\n",
      "120/120 [==============================] - 0s 150us/step - loss: 0.0526 - accuracy: 0.9833 - val_loss: 0.0758 - val_accuracy: 0.9667\n",
      "Epoch 219/400\n",
      "120/120 [==============================] - 0s 133us/step - loss: 0.0526 - accuracy: 0.9833 - val_loss: 0.0758 - val_accuracy: 0.9667\n",
      "Epoch 220/400\n",
      "120/120 [==============================] - 0s 108us/step - loss: 0.0527 - accuracy: 0.9833 - val_loss: 0.0758 - val_accuracy: 0.9667\n",
      "Epoch 221/400\n",
      "120/120 [==============================] - 0s 175us/step - loss: 0.0526 - accuracy: 0.9833 - val_loss: 0.0758 - val_accuracy: 0.9667\n",
      "Epoch 222/400\n",
      "120/120 [==============================] - 0s 133us/step - loss: 0.0526 - accuracy: 0.9833 - val_loss: 0.0758 - val_accuracy: 0.9667\n",
      "Epoch 223/400\n"
     ]
    },
    {
     "name": "stdout",
     "output_type": "stream",
     "text": [
      "120/120 [==============================] - 0s 167us/step - loss: 0.0527 - accuracy: 0.9833 - val_loss: 0.0758 - val_accuracy: 0.9667\n",
      "Epoch 224/400\n",
      "120/120 [==============================] - 0s 150us/step - loss: 0.0526 - accuracy: 0.9833 - val_loss: 0.0758 - val_accuracy: 0.9667\n",
      "Epoch 225/400\n",
      "120/120 [==============================] - 0s 150us/step - loss: 0.0527 - accuracy: 0.9833 - val_loss: 0.0758 - val_accuracy: 0.9667\n",
      "Epoch 226/400\n",
      "120/120 [==============================] - 0s 167us/step - loss: 0.0527 - accuracy: 0.9833 - val_loss: 0.0758 - val_accuracy: 0.9667\n",
      "Epoch 227/400\n",
      "120/120 [==============================] - 0s 117us/step - loss: 0.0528 - accuracy: 0.9833 - val_loss: 0.0758 - val_accuracy: 0.9667\n",
      "Epoch 228/400\n",
      "120/120 [==============================] - 0s 150us/step - loss: 0.0527 - accuracy: 0.9833 - val_loss: 0.0758 - val_accuracy: 0.9667\n",
      "Epoch 229/400\n",
      "120/120 [==============================] - 0s 133us/step - loss: 0.0525 - accuracy: 0.9833 - val_loss: 0.0758 - val_accuracy: 0.9667\n",
      "Epoch 230/400\n",
      "120/120 [==============================] - 0s 117us/step - loss: 0.0525 - accuracy: 0.9833 - val_loss: 0.0758 - val_accuracy: 0.9667\n",
      "Epoch 231/400\n",
      "120/120 [==============================] - 0s 117us/step - loss: 0.0526 - accuracy: 0.9833 - val_loss: 0.0758 - val_accuracy: 0.9667\n",
      "Epoch 232/400\n",
      "120/120 [==============================] - 0s 125us/step - loss: 0.0525 - accuracy: 0.9833 - val_loss: 0.0758 - val_accuracy: 0.9667\n",
      "Epoch 233/400\n",
      "120/120 [==============================] - 0s 133us/step - loss: 0.0525 - accuracy: 0.9833 - val_loss: 0.0758 - val_accuracy: 0.9667\n",
      "Epoch 234/400\n",
      "120/120 [==============================] - 0s 108us/step - loss: 0.0529 - accuracy: 0.9833 - val_loss: 0.0758 - val_accuracy: 0.9667\n",
      "Epoch 235/400\n",
      "120/120 [==============================] - 0s 117us/step - loss: 0.0527 - accuracy: 0.9833 - val_loss: 0.0759 - val_accuracy: 0.9667\n",
      "Epoch 236/400\n",
      "120/120 [==============================] - 0s 192us/step - loss: 0.0526 - accuracy: 0.9833 - val_loss: 0.0759 - val_accuracy: 0.9667\n",
      "Epoch 237/400\n",
      "120/120 [==============================] - 0s 150us/step - loss: 0.0525 - accuracy: 0.9833 - val_loss: 0.0759 - val_accuracy: 0.9667\n",
      "Epoch 238/400\n",
      "120/120 [==============================] - 0s 117us/step - loss: 0.0526 - accuracy: 0.9833 - val_loss: 0.0759 - val_accuracy: 0.9667\n",
      "Epoch 239/400\n",
      "120/120 [==============================] - 0s 117us/step - loss: 0.0525 - accuracy: 0.9833 - val_loss: 0.0759 - val_accuracy: 0.9667\n",
      "Epoch 240/400\n",
      "120/120 [==============================] - 0s 150us/step - loss: 0.0527 - accuracy: 0.9833 - val_loss: 0.0759 - val_accuracy: 0.9667\n",
      "Epoch 241/400\n",
      "120/120 [==============================] - 0s 133us/step - loss: 0.0527 - accuracy: 0.9833 - val_loss: 0.0759 - val_accuracy: 0.9667\n",
      "Epoch 242/400\n",
      "120/120 [==============================] - 0s 117us/step - loss: 0.0526 - accuracy: 0.9833 - val_loss: 0.0759 - val_accuracy: 0.9667\n",
      "Epoch 243/400\n",
      "120/120 [==============================] - 0s 117us/step - loss: 0.0526 - accuracy: 0.9833 - val_loss: 0.0759 - val_accuracy: 0.9667\n",
      "Epoch 244/400\n",
      "120/120 [==============================] - 0s 133us/step - loss: 0.0526 - accuracy: 0.9833 - val_loss: 0.0759 - val_accuracy: 0.9667\n",
      "Epoch 245/400\n",
      "120/120 [==============================] - 0s 133us/step - loss: 0.0524 - accuracy: 0.9833 - val_loss: 0.0759 - val_accuracy: 0.9667\n",
      "Epoch 246/400\n",
      "120/120 [==============================] - 0s 108us/step - loss: 0.0525 - accuracy: 0.9833 - val_loss: 0.0759 - val_accuracy: 0.9667\n",
      "Epoch 247/400\n",
      "120/120 [==============================] - 0s 142us/step - loss: 0.0525 - accuracy: 0.9833 - val_loss: 0.0759 - val_accuracy: 0.9667\n",
      "Epoch 248/400\n",
      "120/120 [==============================] - 0s 117us/step - loss: 0.0525 - accuracy: 0.9833 - val_loss: 0.0759 - val_accuracy: 0.9667\n",
      "Epoch 249/400\n",
      "120/120 [==============================] - 0s 133us/step - loss: 0.0524 - accuracy: 0.9833 - val_loss: 0.0759 - val_accuracy: 0.9667\n",
      "Epoch 250/400\n",
      "120/120 [==============================] - 0s 167us/step - loss: 0.0527 - accuracy: 0.9833 - val_loss: 0.0759 - val_accuracy: 0.9667\n",
      "Epoch 251/400\n",
      "120/120 [==============================] - 0s 150us/step - loss: 0.0527 - accuracy: 0.9833 - val_loss: 0.0759 - val_accuracy: 0.9667\n",
      "Epoch 252/400\n",
      "120/120 [==============================] - 0s 267us/step - loss: 0.0525 - accuracy: 0.9833 - val_loss: 0.0759 - val_accuracy: 0.9667\n",
      "Epoch 253/400\n",
      "120/120 [==============================] - 0s 133us/step - loss: 0.0526 - accuracy: 0.9833 - val_loss: 0.0759 - val_accuracy: 0.9667\n",
      "Epoch 254/400\n",
      "120/120 [==============================] - 0s 158us/step - loss: 0.0524 - accuracy: 0.9833 - val_loss: 0.0759 - val_accuracy: 0.9667\n",
      "Epoch 255/400\n",
      "120/120 [==============================] - 0s 150us/step - loss: 0.0524 - accuracy: 0.9833 - val_loss: 0.0759 - val_accuracy: 0.9667\n",
      "Epoch 256/400\n",
      "120/120 [==============================] - 0s 167us/step - loss: 0.0525 - accuracy: 0.9833 - val_loss: 0.0759 - val_accuracy: 0.9667\n",
      "Epoch 257/400\n",
      "120/120 [==============================] - 0s 208us/step - loss: 0.0524 - accuracy: 0.9833 - val_loss: 0.0759 - val_accuracy: 0.9667\n",
      "Epoch 258/400\n",
      "120/120 [==============================] - 0s 133us/step - loss: 0.0528 - accuracy: 0.9833 - val_loss: 0.0759 - val_accuracy: 0.9667\n",
      "Epoch 259/400\n",
      "120/120 [==============================] - 0s 158us/step - loss: 0.0524 - accuracy: 0.9833 - val_loss: 0.0759 - val_accuracy: 0.9667\n",
      "Epoch 260/400\n",
      "120/120 [==============================] - 0s 158us/step - loss: 0.0524 - accuracy: 0.9833 - val_loss: 0.0759 - val_accuracy: 0.9667\n",
      "Epoch 261/400\n",
      "120/120 [==============================] - 0s 125us/step - loss: 0.0524 - accuracy: 0.9833 - val_loss: 0.0759 - val_accuracy: 0.9667\n",
      "Epoch 262/400\n",
      "120/120 [==============================] - 0s 125us/step - loss: 0.0524 - accuracy: 0.9833 - val_loss: 0.0759 - val_accuracy: 0.9667\n",
      "Epoch 263/400\n",
      "120/120 [==============================] - 0s 167us/step - loss: 0.0524 - accuracy: 0.9833 - val_loss: 0.0759 - val_accuracy: 0.9667\n",
      "Epoch 264/400\n",
      "120/120 [==============================] - 0s 133us/step - loss: 0.0524 - accuracy: 0.9833 - val_loss: 0.0759 - val_accuracy: 0.9667\n",
      "Epoch 265/400\n",
      "120/120 [==============================] - 0s 142us/step - loss: 0.0524 - accuracy: 0.9833 - val_loss: 0.0759 - val_accuracy: 0.9667\n",
      "Epoch 266/400\n",
      "120/120 [==============================] - ETA: 0s - loss: 0.0807 - accuracy: 0.97 - 0s 142us/step - loss: 0.0524 - accuracy: 0.9833 - val_loss: 0.0759 - val_accuracy: 0.9667\n",
      "Epoch 267/400\n",
      "120/120 [==============================] - 0s 142us/step - loss: 0.0524 - accuracy: 0.9833 - val_loss: 0.0759 - val_accuracy: 0.9667\n",
      "Epoch 268/400\n",
      "120/120 [==============================] - 0s 108us/step - loss: 0.0523 - accuracy: 0.9833 - val_loss: 0.0759 - val_accuracy: 0.9667\n",
      "Epoch 269/400\n",
      "120/120 [==============================] - 0s 133us/step - loss: 0.0524 - accuracy: 0.9833 - val_loss: 0.0759 - val_accuracy: 0.9667\n",
      "Epoch 270/400\n",
      "120/120 [==============================] - 0s 125us/step - loss: 0.0525 - accuracy: 0.9833 - val_loss: 0.0759 - val_accuracy: 0.9667\n",
      "Epoch 271/400\n",
      "120/120 [==============================] - 0s 158us/step - loss: 0.0524 - accuracy: 0.9833 - val_loss: 0.0759 - val_accuracy: 0.9667\n",
      "Epoch 272/400\n",
      "120/120 [==============================] - 0s 142us/step - loss: 0.0523 - accuracy: 0.9833 - val_loss: 0.0759 - val_accuracy: 0.9667\n",
      "Epoch 273/400\n",
      "120/120 [==============================] - 0s 175us/step - loss: 0.0524 - accuracy: 0.9833 - val_loss: 0.0759 - val_accuracy: 0.9667\n",
      "Epoch 274/400\n",
      "120/120 [==============================] - 0s 158us/step - loss: 0.0524 - accuracy: 0.9833 - val_loss: 0.0759 - val_accuracy: 0.9667\n",
      "Epoch 275/400\n",
      "120/120 [==============================] - 0s 525us/step - loss: 0.0523 - accuracy: 0.9833 - val_loss: 0.0759 - val_accuracy: 0.9667\n",
      "Epoch 276/400\n",
      "120/120 [==============================] - 0s 117us/step - loss: 0.0523 - accuracy: 0.9833 - val_loss: 0.0759 - val_accuracy: 0.9667\n",
      "Epoch 277/400\n",
      "120/120 [==============================] - 0s 167us/step - loss: 0.0526 - accuracy: 0.9833 - val_loss: 0.0759 - val_accuracy: 0.9667\n",
      "Epoch 278/400\n"
     ]
    },
    {
     "name": "stdout",
     "output_type": "stream",
     "text": [
      "120/120 [==============================] - 0s 375us/step - loss: 0.0523 - accuracy: 0.9833 - val_loss: 0.0759 - val_accuracy: 0.9667\n",
      "Epoch 279/400\n",
      "120/120 [==============================] - 0s 125us/step - loss: 0.0523 - accuracy: 0.9833 - val_loss: 0.0759 - val_accuracy: 0.9667\n",
      "Epoch 280/400\n",
      "120/120 [==============================] - 0s 142us/step - loss: 0.0523 - accuracy: 0.9833 - val_loss: 0.0759 - val_accuracy: 0.9667\n",
      "Epoch 281/400\n",
      "120/120 [==============================] - 0s 117us/step - loss: 0.0523 - accuracy: 0.9833 - val_loss: 0.0760 - val_accuracy: 0.9667\n",
      "Epoch 282/400\n",
      "120/120 [==============================] - 0s 108us/step - loss: 0.0522 - accuracy: 0.9833 - val_loss: 0.0760 - val_accuracy: 0.9667\n",
      "Epoch 283/400\n",
      "120/120 [==============================] - 0s 450us/step - loss: 0.0524 - accuracy: 0.9833 - val_loss: 0.0760 - val_accuracy: 0.9667\n",
      "Epoch 284/400\n",
      "120/120 [==============================] - 0s 150us/step - loss: 0.0525 - accuracy: 0.9833 - val_loss: 0.0760 - val_accuracy: 0.9667\n",
      "Epoch 285/400\n",
      "120/120 [==============================] - 0s 125us/step - loss: 0.0523 - accuracy: 0.9833 - val_loss: 0.0760 - val_accuracy: 0.9667\n",
      "Epoch 286/400\n",
      "120/120 [==============================] - 0s 275us/step - loss: 0.0522 - accuracy: 0.9833 - val_loss: 0.0760 - val_accuracy: 0.9667\n",
      "Epoch 287/400\n",
      "120/120 [==============================] - 0s 108us/step - loss: 0.0524 - accuracy: 0.9833 - val_loss: 0.0760 - val_accuracy: 0.9667\n",
      "Epoch 288/400\n",
      "120/120 [==============================] - 0s 208us/step - loss: 0.0523 - accuracy: 0.9833 - val_loss: 0.0760 - val_accuracy: 0.9667\n",
      "Epoch 289/400\n",
      "120/120 [==============================] - 0s 117us/step - loss: 0.0523 - accuracy: 0.9833 - val_loss: 0.0760 - val_accuracy: 0.9667\n",
      "Epoch 290/400\n",
      "120/120 [==============================] - 0s 142us/step - loss: 0.0522 - accuracy: 0.9833 - val_loss: 0.0760 - val_accuracy: 0.9667\n",
      "Epoch 291/400\n",
      "120/120 [==============================] - 0s 516us/step - loss: 0.0523 - accuracy: 0.9833 - val_loss: 0.0760 - val_accuracy: 0.9667\n",
      "Epoch 292/400\n",
      "120/120 [==============================] - 0s 142us/step - loss: 0.0522 - accuracy: 0.9833 - val_loss: 0.0760 - val_accuracy: 0.9667\n",
      "Epoch 293/400\n",
      "120/120 [==============================] - 0s 175us/step - loss: 0.0522 - accuracy: 0.9833 - val_loss: 0.0760 - val_accuracy: 0.9667\n",
      "Epoch 294/400\n",
      "120/120 [==============================] - 0s 625us/step - loss: 0.0522 - accuracy: 0.9833 - val_loss: 0.0760 - val_accuracy: 0.9667\n",
      "Epoch 295/400\n",
      "120/120 [==============================] - 0s 167us/step - loss: 0.0523 - accuracy: 0.9833 - val_loss: 0.0760 - val_accuracy: 0.9667\n",
      "Epoch 296/400\n",
      "120/120 [==============================] - 0s 533us/step - loss: 0.0522 - accuracy: 0.9833 - val_loss: 0.0760 - val_accuracy: 0.9667\n",
      "Epoch 297/400\n",
      "120/120 [==============================] - 0s 150us/step - loss: 0.0523 - accuracy: 0.9833 - val_loss: 0.0760 - val_accuracy: 0.9667\n",
      "Epoch 298/400\n",
      "120/120 [==============================] - 0s 125us/step - loss: 0.0525 - accuracy: 0.9833 - val_loss: 0.0760 - val_accuracy: 0.9667\n",
      "Epoch 299/400\n",
      "120/120 [==============================] - 0s 416us/step - loss: 0.0523 - accuracy: 0.9833 - val_loss: 0.0760 - val_accuracy: 0.9667\n",
      "Epoch 300/400\n",
      "120/120 [==============================] - 0s 158us/step - loss: 0.0522 - accuracy: 0.9833 - val_loss: 0.0760 - val_accuracy: 0.9667\n",
      "Epoch 301/400\n",
      "120/120 [==============================] - 0s 142us/step - loss: 0.0521 - accuracy: 0.9833 - val_loss: 0.0760 - val_accuracy: 0.9667\n",
      "Epoch 302/400\n",
      "120/120 [==============================] - 0s 117us/step - loss: 0.0521 - accuracy: 0.9833 - val_loss: 0.0760 - val_accuracy: 0.9667\n",
      "Epoch 303/400\n",
      "120/120 [==============================] - 0s 108us/step - loss: 0.0521 - accuracy: 0.9833 - val_loss: 0.0760 - val_accuracy: 0.9667\n",
      "Epoch 304/400\n",
      "120/120 [==============================] - 0s 416us/step - loss: 0.0522 - accuracy: 0.9833 - val_loss: 0.0760 - val_accuracy: 0.9667\n",
      "Epoch 305/400\n",
      "120/120 [==============================] - 0s 150us/step - loss: 0.0522 - accuracy: 0.9833 - val_loss: 0.0760 - val_accuracy: 0.9667\n",
      "Epoch 306/400\n",
      "120/120 [==============================] - 0s 125us/step - loss: 0.0523 - accuracy: 0.9833 - val_loss: 0.0760 - val_accuracy: 0.9667\n",
      "Epoch 307/400\n",
      "120/120 [==============================] - 0s 425us/step - loss: 0.0522 - accuracy: 0.9833 - val_loss: 0.0760 - val_accuracy: 0.9667\n",
      "Epoch 308/400\n",
      "120/120 [==============================] - 0s 133us/step - loss: 0.0521 - accuracy: 0.9833 - val_loss: 0.0760 - val_accuracy: 0.9667\n",
      "Epoch 309/400\n",
      "120/120 [==============================] - 0s 133us/step - loss: 0.0522 - accuracy: 0.9833 - val_loss: 0.0760 - val_accuracy: 0.9667\n",
      "Epoch 310/400\n",
      "120/120 [==============================] - 0s 425us/step - loss: 0.0522 - accuracy: 0.9833 - val_loss: 0.0759 - val_accuracy: 0.9667\n",
      "Epoch 311/400\n",
      "120/120 [==============================] - 0s 117us/step - loss: 0.0522 - accuracy: 0.9833 - val_loss: 0.0760 - val_accuracy: 0.9667\n",
      "Epoch 312/400\n",
      "120/120 [==============================] - 0s 133us/step - loss: 0.0521 - accuracy: 0.9833 - val_loss: 0.0760 - val_accuracy: 0.9667\n",
      "Epoch 313/400\n",
      "120/120 [==============================] - 0s 100us/step - loss: 0.0522 - accuracy: 0.9833 - val_loss: 0.0760 - val_accuracy: 0.9667\n",
      "Epoch 314/400\n",
      "120/120 [==============================] - 0s 146us/step - loss: 0.0521 - accuracy: 0.9833 - val_loss: 0.0760 - val_accuracy: 0.9667\n",
      "Epoch 315/400\n",
      "120/120 [==============================] - 0s 491us/step - loss: 0.0523 - accuracy: 0.9833 - val_loss: 0.0760 - val_accuracy: 0.9667\n",
      "Epoch 316/400\n",
      "120/120 [==============================] - 0s 142us/step - loss: 0.0521 - accuracy: 0.9833 - val_loss: 0.0760 - val_accuracy: 0.9667\n",
      "Epoch 317/400\n",
      "120/120 [==============================] - 0s 183us/step - loss: 0.0522 - accuracy: 0.9833 - val_loss: 0.0760 - val_accuracy: 0.9667\n",
      "Epoch 318/400\n",
      "120/120 [==============================] - 0s 150us/step - loss: 0.0522 - accuracy: 0.9833 - val_loss: 0.0760 - val_accuracy: 0.9667\n",
      "Epoch 319/400\n",
      "120/120 [==============================] - 0s 183us/step - loss: 0.0522 - accuracy: 0.9833 - val_loss: 0.0760 - val_accuracy: 0.9667\n",
      "Epoch 320/400\n",
      "120/120 [==============================] - 0s 641us/step - loss: 0.0521 - accuracy: 0.9833 - val_loss: 0.0760 - val_accuracy: 0.9667\n",
      "Epoch 321/400\n",
      "120/120 [==============================] - 0s 117us/step - loss: 0.0520 - accuracy: 0.9833 - val_loss: 0.0760 - val_accuracy: 0.9667\n",
      "Epoch 322/400\n",
      "120/120 [==============================] - 0s 441us/step - loss: 0.0521 - accuracy: 0.9833 - val_loss: 0.0760 - val_accuracy: 0.9667\n",
      "Epoch 323/400\n",
      "120/120 [==============================] - 0s 158us/step - loss: 0.0521 - accuracy: 0.9833 - val_loss: 0.0760 - val_accuracy: 0.9667\n",
      "Epoch 324/400\n",
      "120/120 [==============================] - 0s 108us/step - loss: 0.0521 - accuracy: 0.9833 - val_loss: 0.0760 - val_accuracy: 0.9667\n",
      "Epoch 325/400\n",
      "120/120 [==============================] - 0s 158us/step - loss: 0.0522 - accuracy: 0.9833 - val_loss: 0.0760 - val_accuracy: 0.9667\n",
      "Epoch 326/400\n",
      "120/120 [==============================] - 0s 108us/step - loss: 0.0521 - accuracy: 0.9833 - val_loss: 0.0760 - val_accuracy: 0.9667\n",
      "Epoch 327/400\n",
      "120/120 [==============================] - 0s 125us/step - loss: 0.0520 - accuracy: 0.9833 - val_loss: 0.0760 - val_accuracy: 0.9667\n",
      "Epoch 328/400\n",
      "120/120 [==============================] - 0s 133us/step - loss: 0.0521 - accuracy: 0.9833 - val_loss: 0.0760 - val_accuracy: 0.9667\n",
      "Epoch 329/400\n",
      "120/120 [==============================] - 0s 100us/step - loss: 0.0522 - accuracy: 0.9833 - val_loss: 0.0760 - val_accuracy: 0.9667\n",
      "Epoch 330/400\n",
      "120/120 [==============================] - 0s 167us/step - loss: 0.0520 - accuracy: 0.9833 - val_loss: 0.0760 - val_accuracy: 0.9667\n",
      "Epoch 331/400\n",
      "120/120 [==============================] - 0s 125us/step - loss: 0.0522 - accuracy: 0.9833 - val_loss: 0.0760 - val_accuracy: 0.9667\n",
      "Epoch 332/400\n",
      "120/120 [==============================] - ETA: 0s - loss: 0.0181 - accuracy: 1.00 - 0s 133us/step - loss: 0.0520 - accuracy: 0.9833 - val_loss: 0.0760 - val_accuracy: 0.9667\n",
      "Epoch 333/400\n"
     ]
    },
    {
     "name": "stdout",
     "output_type": "stream",
     "text": [
      "120/120 [==============================] - 0s 541us/step - loss: 0.0520 - accuracy: 0.9833 - val_loss: 0.0760 - val_accuracy: 0.9667\n",
      "Epoch 334/400\n",
      "120/120 [==============================] - 0s 142us/step - loss: 0.0520 - accuracy: 0.9833 - val_loss: 0.0760 - val_accuracy: 0.9667\n",
      "Epoch 335/400\n",
      "120/120 [==============================] - 0s 133us/step - loss: 0.0520 - accuracy: 0.9833 - val_loss: 0.0760 - val_accuracy: 0.9667\n",
      "Epoch 336/400\n",
      "120/120 [==============================] - 0s 516us/step - loss: 0.0520 - accuracy: 0.9833 - val_loss: 0.0760 - val_accuracy: 0.9667\n",
      "Epoch 337/400\n",
      "120/120 [==============================] - 0s 133us/step - loss: 0.0520 - accuracy: 0.9833 - val_loss: 0.0760 - val_accuracy: 0.9667\n",
      "Epoch 338/400\n",
      "120/120 [==============================] - 0s 125us/step - loss: 0.0519 - accuracy: 0.9833 - val_loss: 0.0760 - val_accuracy: 0.9667\n",
      "Epoch 339/400\n",
      "120/120 [==============================] - 0s 100us/step - loss: 0.0520 - accuracy: 0.9833 - val_loss: 0.0760 - val_accuracy: 0.9667\n",
      "Epoch 340/400\n",
      "120/120 [==============================] - 0s 142us/step - loss: 0.0520 - accuracy: 0.9833 - val_loss: 0.0760 - val_accuracy: 0.9667\n",
      "Epoch 341/400\n",
      "120/120 [==============================] - 0s 142us/step - loss: 0.0521 - accuracy: 0.9833 - val_loss: 0.0760 - val_accuracy: 0.9667\n",
      "Epoch 342/400\n",
      "120/120 [==============================] - 0s 117us/step - loss: 0.0520 - accuracy: 0.9833 - val_loss: 0.0760 - val_accuracy: 0.9667\n",
      "Epoch 343/400\n",
      "120/120 [==============================] - ETA: 0s - loss: 0.0703 - accuracy: 0.97 - 0s 125us/step - loss: 0.0520 - accuracy: 0.9833 - val_loss: 0.0760 - val_accuracy: 0.9667\n",
      "Epoch 344/400\n",
      "120/120 [==============================] - 0s 158us/step - loss: 0.0519 - accuracy: 0.9833 - val_loss: 0.0760 - val_accuracy: 0.9667\n",
      "Epoch 345/400\n",
      "120/120 [==============================] - 0s 125us/step - loss: 0.0519 - accuracy: 0.9833 - val_loss: 0.0760 - val_accuracy: 0.9667\n",
      "Epoch 346/400\n",
      "120/120 [==============================] - 0s 108us/step - loss: 0.0521 - accuracy: 0.9833 - val_loss: 0.0760 - val_accuracy: 0.9667\n",
      "Epoch 347/400\n",
      "120/120 [==============================] - 0s 100us/step - loss: 0.0521 - accuracy: 0.9833 - val_loss: 0.0760 - val_accuracy: 0.9667\n",
      "Epoch 348/400\n",
      "120/120 [==============================] - 0s 108us/step - loss: 0.0520 - accuracy: 0.9833 - val_loss: 0.0760 - val_accuracy: 0.9667\n",
      "Epoch 349/400\n",
      "120/120 [==============================] - 0s 158us/step - loss: 0.0520 - accuracy: 0.9833 - val_loss: 0.0760 - val_accuracy: 0.9667\n",
      "Epoch 350/400\n",
      "120/120 [==============================] - 0s 158us/step - loss: 0.0519 - accuracy: 0.9833 - val_loss: 0.0760 - val_accuracy: 0.9667\n",
      "Epoch 351/400\n",
      "120/120 [==============================] - 0s 150us/step - loss: 0.0522 - accuracy: 0.9833 - val_loss: 0.0760 - val_accuracy: 0.9667\n",
      "Epoch 352/400\n",
      "120/120 [==============================] - 0s 242us/step - loss: 0.0520 - accuracy: 0.9833 - val_loss: 0.0760 - val_accuracy: 0.9667\n",
      "Epoch 353/400\n",
      "120/120 [==============================] - 0s 125us/step - loss: 0.0519 - accuracy: 0.9833 - val_loss: 0.0760 - val_accuracy: 0.9667\n",
      "Epoch 354/400\n",
      "120/120 [==============================] - 0s 158us/step - loss: 0.0519 - accuracy: 0.9833 - val_loss: 0.0760 - val_accuracy: 0.9667\n",
      "Epoch 355/400\n",
      "120/120 [==============================] - 0s 208us/step - loss: 0.0520 - accuracy: 0.9833 - val_loss: 0.0760 - val_accuracy: 0.9667\n",
      "Epoch 356/400\n",
      "120/120 [==============================] - 0s 100us/step - loss: 0.0520 - accuracy: 0.9833 - val_loss: 0.0760 - val_accuracy: 0.9667\n",
      "Epoch 357/400\n",
      "120/120 [==============================] - 0s 142us/step - loss: 0.0520 - accuracy: 0.9833 - val_loss: 0.0760 - val_accuracy: 0.9667\n",
      "Epoch 358/400\n",
      "120/120 [==============================] - 0s 117us/step - loss: 0.0519 - accuracy: 0.9833 - val_loss: 0.0760 - val_accuracy: 0.9667\n",
      "Epoch 359/400\n",
      "120/120 [==============================] - 0s 125us/step - loss: 0.0520 - accuracy: 0.9833 - val_loss: 0.0760 - val_accuracy: 0.9667\n",
      "Epoch 360/400\n",
      "120/120 [==============================] - 0s 175us/step - loss: 0.0520 - accuracy: 0.9833 - val_loss: 0.0760 - val_accuracy: 0.9667\n",
      "Epoch 361/400\n",
      "120/120 [==============================] - 0s 117us/step - loss: 0.0518 - accuracy: 0.9833 - val_loss: 0.0760 - val_accuracy: 0.9667\n",
      "Epoch 362/400\n",
      "120/120 [==============================] - 0s 158us/step - loss: 0.0520 - accuracy: 0.9833 - val_loss: 0.0760 - val_accuracy: 0.9667\n",
      "Epoch 363/400\n",
      "120/120 [==============================] - 0s 125us/step - loss: 0.0519 - accuracy: 0.9833 - val_loss: 0.0760 - val_accuracy: 0.9667\n",
      "Epoch 364/400\n",
      "120/120 [==============================] - 0s 225us/step - loss: 0.0518 - accuracy: 0.9833 - val_loss: 0.0760 - val_accuracy: 0.9667\n",
      "Epoch 365/400\n",
      "120/120 [==============================] - 0s 167us/step - loss: 0.0521 - accuracy: 0.9833 - val_loss: 0.0761 - val_accuracy: 0.9667\n",
      "Epoch 366/400\n",
      "120/120 [==============================] - 0s 133us/step - loss: 0.0519 - accuracy: 0.9833 - val_loss: 0.0760 - val_accuracy: 0.9667\n",
      "Epoch 367/400\n",
      "120/120 [==============================] - 0s 108us/step - loss: 0.0518 - accuracy: 0.9833 - val_loss: 0.0761 - val_accuracy: 0.9667\n",
      "Epoch 368/400\n",
      "120/120 [==============================] - 0s 117us/step - loss: 0.0518 - accuracy: 0.9833 - val_loss: 0.0761 - val_accuracy: 0.9667\n",
      "Epoch 369/400\n",
      "120/120 [==============================] - 0s 117us/step - loss: 0.0518 - accuracy: 0.9833 - val_loss: 0.0761 - val_accuracy: 0.9667\n",
      "Epoch 370/400\n",
      "120/120 [==============================] - 0s 125us/step - loss: 0.0518 - accuracy: 0.9833 - val_loss: 0.0760 - val_accuracy: 0.9667\n",
      "Epoch 371/400\n",
      "120/120 [==============================] - 0s 292us/step - loss: 0.0519 - accuracy: 0.9833 - val_loss: 0.0760 - val_accuracy: 0.9667\n",
      "Epoch 372/400\n",
      "120/120 [==============================] - 0s 100us/step - loss: 0.0519 - accuracy: 0.9833 - val_loss: 0.0760 - val_accuracy: 0.9667\n",
      "Epoch 373/400\n",
      "120/120 [==============================] - 0s 108us/step - loss: 0.0520 - accuracy: 0.9833 - val_loss: 0.0760 - val_accuracy: 0.9667\n",
      "Epoch 374/400\n",
      "120/120 [==============================] - 0s 208us/step - loss: 0.0518 - accuracy: 0.9833 - val_loss: 0.0760 - val_accuracy: 0.9667\n",
      "Epoch 375/400\n",
      "120/120 [==============================] - 0s 175us/step - loss: 0.0518 - accuracy: 0.9833 - val_loss: 0.0760 - val_accuracy: 0.9667\n",
      "Epoch 376/400\n",
      "120/120 [==============================] - ETA: 0s - loss: 0.0694 - accuracy: 0.97 - 0s 117us/step - loss: 0.0519 - accuracy: 0.9833 - val_loss: 0.0760 - val_accuracy: 0.9667\n",
      "Epoch 377/400\n",
      "120/120 [==============================] - 0s 117us/step - loss: 0.0519 - accuracy: 0.9833 - val_loss: 0.0760 - val_accuracy: 0.9667\n",
      "Epoch 378/400\n",
      "120/120 [==============================] - 0s 183us/step - loss: 0.0518 - accuracy: 0.9833 - val_loss: 0.0761 - val_accuracy: 0.9667\n",
      "Epoch 379/400\n",
      "120/120 [==============================] - 0s 108us/step - loss: 0.0519 - accuracy: 0.9833 - val_loss: 0.0761 - val_accuracy: 0.9667\n",
      "Epoch 380/400\n",
      "120/120 [==============================] - 0s 117us/step - loss: 0.0518 - accuracy: 0.9833 - val_loss: 0.0761 - val_accuracy: 0.9667\n",
      "Epoch 381/400\n",
      "120/120 [==============================] - 0s 108us/step - loss: 0.0518 - accuracy: 0.9833 - val_loss: 0.0761 - val_accuracy: 0.9667\n",
      "Epoch 382/400\n",
      "120/120 [==============================] - 0s 108us/step - loss: 0.0518 - accuracy: 0.9833 - val_loss: 0.0761 - val_accuracy: 0.9667\n",
      "Epoch 383/400\n",
      "120/120 [==============================] - 0s 125us/step - loss: 0.0518 - accuracy: 0.9833 - val_loss: 0.0761 - val_accuracy: 0.9667\n",
      "Epoch 384/400\n",
      "120/120 [==============================] - 0s 133us/step - loss: 0.0518 - accuracy: 0.9833 - val_loss: 0.0761 - val_accuracy: 0.9667\n",
      "Epoch 385/400\n",
      "120/120 [==============================] - 0s 108us/step - loss: 0.0519 - accuracy: 0.9833 - val_loss: 0.0760 - val_accuracy: 0.9667\n",
      "Epoch 386/400\n",
      "120/120 [==============================] - 0s 133us/step - loss: 0.0517 - accuracy: 0.9833 - val_loss: 0.0760 - val_accuracy: 0.9667\n",
      "Epoch 387/400\n",
      "120/120 [==============================] - 0s 100us/step - loss: 0.0517 - accuracy: 0.9833 - val_loss: 0.0760 - val_accuracy: 0.9667\n",
      "Epoch 388/400\n"
     ]
    },
    {
     "name": "stdout",
     "output_type": "stream",
     "text": [
      "120/120 [==============================] - 0s 117us/step - loss: 0.0519 - accuracy: 0.9833 - val_loss: 0.0760 - val_accuracy: 0.9667\n",
      "Epoch 389/400\n",
      "120/120 [==============================] - 0s 133us/step - loss: 0.0517 - accuracy: 0.9833 - val_loss: 0.0760 - val_accuracy: 0.9667\n",
      "Epoch 390/400\n",
      "120/120 [==============================] - 0s 117us/step - loss: 0.0517 - accuracy: 0.9833 - val_loss: 0.0760 - val_accuracy: 0.9667\n",
      "Epoch 391/400\n",
      "120/120 [==============================] - 0s 125us/step - loss: 0.0518 - accuracy: 0.9833 - val_loss: 0.0760 - val_accuracy: 0.9667\n",
      "Epoch 392/400\n",
      "120/120 [==============================] - 0s 108us/step - loss: 0.0518 - accuracy: 0.9833 - val_loss: 0.0761 - val_accuracy: 0.9667\n",
      "Epoch 393/400\n",
      "120/120 [==============================] - 0s 167us/step - loss: 0.0519 - accuracy: 0.9833 - val_loss: 0.0761 - val_accuracy: 0.9667\n",
      "Epoch 394/400\n",
      "120/120 [==============================] - 0s 217us/step - loss: 0.0519 - accuracy: 0.9833 - val_loss: 0.0761 - val_accuracy: 0.9667\n",
      "Epoch 395/400\n",
      "120/120 [==============================] - 0s 142us/step - loss: 0.0517 - accuracy: 0.9833 - val_loss: 0.0761 - val_accuracy: 0.9667\n",
      "Epoch 396/400\n",
      "120/120 [==============================] - 0s 117us/step - loss: 0.0517 - accuracy: 0.9833 - val_loss: 0.0761 - val_accuracy: 0.9667\n",
      "Epoch 397/400\n",
      "120/120 [==============================] - 0s 167us/step - loss: 0.0517 - accuracy: 0.9833 - val_loss: 0.0761 - val_accuracy: 0.9667\n",
      "Epoch 398/400\n",
      "120/120 [==============================] - 0s 117us/step - loss: 0.0518 - accuracy: 0.9833 - val_loss: 0.0761 - val_accuracy: 0.9667\n",
      "Epoch 399/400\n",
      "120/120 [==============================] - 0s 125us/step - loss: 0.0517 - accuracy: 0.9833 - val_loss: 0.0761 - val_accuracy: 0.9667\n",
      "Epoch 400/400\n",
      "120/120 [==============================] - 0s 150us/step - loss: 0.0518 - accuracy: 0.9833 - val_loss: 0.0761 - val_accuracy: 0.9667\n"
     ]
    }
   ],
   "source": [
    "history = model.fit(X_train,y_train, validation_data=(X_test,y_test), nb_epoch=400,batch_size=40)"
   ]
  },
  {
   "cell_type": "code",
   "execution_count": 54,
   "metadata": {},
   "outputs": [],
   "source": [
    "score = model.evaluate(X_test, y_test, verbose = 0)"
   ]
  },
  {
   "cell_type": "code",
   "execution_count": 55,
   "metadata": {},
   "outputs": [
    {
     "name": "stdout",
     "output_type": "stream",
     "text": [
      "Test score: 0.0750613883137703\n",
      "Test accuracy: 0.9666666388511658\n"
     ]
    }
   ],
   "source": [
    "print('Test score:', score[0])\n",
    "print('Test accuracy:', score[1])"
   ]
  },
  {
   "cell_type": "code",
   "execution_count": 56,
   "metadata": {},
   "outputs": [],
   "source": [
    "y_pred = model.predict(X_test)"
   ]
  },
  {
   "cell_type": "code",
   "execution_count": 61,
   "metadata": {},
   "outputs": [],
   "source": [
    "from sklearn.metrics import confusion_matrix\n",
    "from sklearn.metrics import accuracy_score\n",
    "from sklearn.metrics import classification_report\n",
    "from sklearn.metrics import roc_curve\n",
    "from sklearn.metrics import roc_auc_score"
   ]
  },
  {
   "cell_type": "code",
   "execution_count": 71,
   "metadata": {},
   "outputs": [],
   "source": [
    "y_test = y_test.to_numpy()"
   ]
  },
  {
   "cell_type": "code",
   "execution_count": 72,
   "metadata": {},
   "outputs": [],
   "source": [
    "y_test_class = np.argmax(y_test, axis=1)\n",
    "y_pred_class = np.argmax(y_pred, axis=1)"
   ]
  },
  {
   "cell_type": "code",
   "execution_count": 73,
   "metadata": {},
   "outputs": [
    {
     "name": "stdout",
     "output_type": "stream",
     "text": [
      "              precision    recall  f1-score   support\n",
      "\n",
      "           0       1.00      1.00      1.00        10\n",
      "           1       0.90      1.00      0.95         9\n",
      "           2       1.00      0.91      0.95        11\n",
      "\n",
      "    accuracy                           0.97        30\n",
      "   macro avg       0.97      0.97      0.97        30\n",
      "weighted avg       0.97      0.97      0.97        30\n",
      "\n",
      "[[10  0  0]\n",
      " [ 0  9  0]\n",
      " [ 0  1 10]]\n"
     ]
    }
   ],
   "source": [
    "print(classification_report(y_test_class, y_pred_class))\n",
    "print(confusion_matrix(y_test_class, y_pred_class))"
   ]
  },
  {
   "cell_type": "code",
   "execution_count": 75,
   "metadata": {},
   "outputs": [],
   "source": [
    "\n",
    "df_result = pd.DataFrame.from_dict(history.history)"
   ]
  },
  {
   "cell_type": "code",
   "execution_count": 77,
   "metadata": {},
   "outputs": [
    {
     "data": {
      "text/plain": [
       "<matplotlib.axes._subplots.AxesSubplot at 0x231f1790c08>"
      ]
     },
     "execution_count": 77,
     "metadata": {},
     "output_type": "execute_result"
    },
    {
     "data": {
      "image/png": "[encoded data removed]",
      "text/plain": [
       "<Figure size 432x288 with 1 Axes>"
      ]
     },
     "metadata": {
      "needs_background": "light"
     },
     "output_type": "display_data"
    }
   ],
   "source": [
    "df_result['accuracy'].plot()"
   ]
  },
  {
   "cell_type": "code",
   "execution_count": 79,
   "metadata": {},
   "outputs": [
    {
     "data": {
      "text/plain": [
       "<matplotlib.axes._subplots.AxesSubplot at 0x231e7dc9c88>"
      ]
     },
     "execution_count": 79,
     "metadata": {},
     "output_type": "execute_result"
    },
    {
     "data": {
      "image/png": "[encoded data removed]",
      "text/plain": [
       "<Figure size 432x288 with 1 Axes>"
      ]
     },
     "metadata": {
      "needs_background": "light"
     },
     "output_type": "display_data"
    }
   ],
   "source": [
    "df_result['loss'].plot()"
   ]
  },
  {
   "cell_type": "code",
   "execution_count": 80,
   "metadata": {},
   "outputs": [
    {
     "data": {
      "image/png": "[encoded data removed]",
      "text/plain": [
       "<Figure size 360x360 with 1 Axes>"
      ]
     },
     "metadata": {
      "needs_background": "light"
     },
     "output_type": "display_data"
    }
   ],
   "source": [
    "\n",
    "cm=confusion_matrix(y_test_class,y_pred_class)\n",
    "fig,ax=plt.subplots(figsize=(5,5))\n",
    "ax.matshow(cm,cmap=plt.cm.Blues,alpha=0.6)\n",
    "for i in range(cm.shape[0]):\n",
    "    for j in range(cm.shape[1]):\n",
    "        ax.text(x=j,y=i,s=cm[i,j],va='center',ha='center')\n",
    "plt.title('Confusion Matrix')\n",
    "plt.xlabel('Predicted')\n",
    "plt.ylabel('Actual')\n",
    "plt.show()"
   ]
  },
  {
   "cell_type": "code",
   "execution_count": null,
   "metadata": {},
   "outputs": [],
   "source": []
  },
  {
   "cell_type": "code",
   "execution_count": null,
   "metadata": {},
   "outputs": [],
   "source": []
  }
 ],
 "metadata": {
  "kernelspec": {
   "display_name": "Python 3",
   "language": "python",
   "name": "python3"
  },
  "language_info": {
   "codemirror_mode": {
    "name": "ipython",
    "version": 3
   },
   "file_extension": ".py",
   "mimetype": "text/x-python",
   "name": "python",
   "nbconvert_exporter": "python",
   "pygments_lexer": "ipython3",
   "version": "3.7.4"
  }
 },
 "nbformat": 4,
 "nbformat_minor": 2
}
